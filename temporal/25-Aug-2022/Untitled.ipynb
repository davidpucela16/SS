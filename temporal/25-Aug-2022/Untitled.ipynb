# -*- coding: utf-8 -*-
"""
Éditeur de Spyder

Ceci est un script temporaire.

Created 22 August 2022 solving the heat equation.
The goal is to compare the SS with the temporal Green's function
"""


import numpy as np 
import matplotlib.pyplot as plt 

import matplotlib.animation as animation

k = 2*np.pi
w = 2*np.pi
dt = 0.01

x = np.linspace(0, 3, 151)

for i in range(50):
    t = i * dt
    y = np.cos(k*x - w*t)
    if i == 0:
        line, = plt.plot(x, y)
    else:
        line.set_data(x, y)
    plt.pause(0.01) # pause avec duree en secondes
    
plt.show()