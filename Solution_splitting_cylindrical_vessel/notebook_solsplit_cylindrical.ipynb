{
 "cells": [
  {
   "cell_type": "code",
   "execution_count": 2,
   "metadata": {},
   "outputs": [],
   "source": [
    "import sol_split_cyl_coarse as RH\n",
    "import numpy as np\n",
    "from scipy import sparse\n",
    "import matplotlib.pyplot as plt \n",
    "import matplotlib.patches as mpatches\n",
    "import matplotlib.gridspec as gridspec\n",
    "import scipy as sp\n",
    "import scipy.sparse.linalg\n",
    "import time\n"
   ]
  },
  {
   "cell_type": "markdown",
   "metadata": {},
   "source": [
    "Implementation of the solution splitting technique with cylindrical symmetry around the vessel:\n",
    "\n",
    "$$-D \\Delta \\phi = - \\delta_\\Lambda q$$\n",
    "\n",
    "$$\\phi \\mathbf(x)=0 \\quad on \\quad \\partial \\Omega_{ext}$$\n",
    "$$\\nabla_n \\phi\\mathbf(x)=0 \\quad on \\quad \\partial \\Omega_{east, west}$$\n",
    "\n",
    "$$\\iiint_\\Omega \\delta_\\Lambda f\\mathbf(x) dV = \\int_\\Lambda f(s)ds$$\n",
    "\n",
    "$$\\phi= \\phi_s + \\phi_r$$\n",
    "\n",
    "$\\phi$ represents the scalar field that we want to recover \n",
    "\n",
    "$$\\phi_s=G(r)q(s)$$\n",
    "\n",
    "with: $G(r)=-\\frac{1}{2 \\pi D}log(\\frac{r}{R_v})$\n",
    "\n"
   ]
  },
  {
   "cell_type": "markdown",
   "metadata": {},
   "source": [
    "$$\\Delta \\phi = \\Delta (G(r)q(s)) + \\Delta \\phi_r$$\n",
    "$$-\\delta_\\Lambda \\frac{q}{D} = (\\Delta G(r))q(s) + 2\\nabla G \\cdot \\nabla q + Gq\"(s) +  \\Delta \\phi_r$$"
   ]
  },
  {
   "cell_type": "markdown",
   "metadata": {},
   "source": [
    "For this particular problem we have:\n",
    "$$\\Delta \\phi_r = -G(r)\\frac{d^2 q}{d s^2}$$\n",
    "\n",
    "with the following boundary conditions:\n",
    "\n",
    "$$\\frac{\\partial \\phi_r}{\\partial s}= - G(r)\\frac{\\partial q(s)}{\\partial s} \\quad  on \\quad \\partial \\Omega_{east,west}$$\n",
    "\n",
    "$$\\phi_r(R_{max}, s) = -G(R_{max})q(s) \\quad on \\quad \\partial \\Omega_{ext}$$"
   ]
  },
  {
   "cell_type": "markdown",
   "metadata": {},
   "source": [
    "For the internal boundary conditions (near the vessel wall:\n",
    "\n",
    "$$\\nabla \\phi \\cdot \\mathbf{n} = - \\frac{q(s)}{2 \\pi R_v}$$\n",
    "in this case $\\mathbf{n}= - \\mathbf{e}_r$ \n",
    "\n",
    "Therefore:\n",
    "$$\\frac{\\partial \\phi}{\\partial r}= \\frac{q(s)}{2 \\pi R_v} \\quad on \\quad \\Omega_{in}$$\n",
    "\n",
    "Further:\n",
    "$$\\nabla(G(r)q(s))\\cdot (-\\mathbf{e_r})=\\frac{q(s)}{2 \\pi R_v}$$\n",
    "\n",
    "Therefore:\n",
    "$$\\frac{\\partial \\phi_r}{\\partial r}= 0 \\quad on \\quad \\Omega_{in}$$\n"
   ]
  },
  {
   "cell_type": "markdown",
   "metadata": {},
   "source": [
    "We obtain the full problem:\n",
    "\\begin{cases}\n",
    "\\Delta \\phi_r = -G(r)\\dfrac{d^2 q}{d s^2} \\\\\n",
    "\\\\\n",
    "  \\dfrac{\\partial \\phi_r}{\\partial s}= - G(r)\\dfrac{\\partial q(s)}{\\partial s} \\quad  on \\quad \\partial \\Omega_{east,west} \\\\\n",
    "  \\\\\n",
    "  \\phi_r(R_{max}, s) = -G(R_{max})q(s) \\quad on \\quad \\partial \\Omega_{ext} \\\\\n",
    "  \\\\\n",
    "  \\dfrac{\\partial \\phi}{\\partial r}= 0 \\quad on \\quad \\Omega_{in} \\\\\n",
    "\\end{cases}  \n"
   ]
  },
  {
   "cell_type": "code",
   "execution_count": 4,
   "metadata": {
    "scrolled": false
   },
   "outputs": [
    {
     "ename": "NameError",
     "evalue": "name 'RH' is not defined",
     "output_type": "error",
     "traceback": [
      "\u001b[0;31m---------------------------------------------------------------------------\u001b[0m",
      "\u001b[0;31mNameError\u001b[0m                                 Traceback (most recent call last)",
      "\u001b[0;32m<ipython-input-4-119035ef4ca4>\u001b[0m in \u001b[0;36m<module>\u001b[0;34m\u001b[0m\n\u001b[1;32m      2\u001b[0m \u001b[0;31m#reload(RH)\u001b[0m\u001b[0;34m\u001b[0m\u001b[0;34m\u001b[0m\u001b[0;34m\u001b[0m\u001b[0m\n\u001b[1;32m      3\u001b[0m \u001b[0mplt\u001b[0m\u001b[0;34m.\u001b[0m\u001b[0mfigure\u001b[0m\u001b[0;34m(\u001b[0m\u001b[0;34m)\u001b[0m\u001b[0;34m\u001b[0m\u001b[0;34m\u001b[0m\u001b[0m\n\u001b[0;32m----> 4\u001b[0;31m \u001b[0mplt\u001b[0m\u001b[0;34m.\u001b[0m\u001b[0mplot\u001b[0m\u001b[0;34m(\u001b[0m\u001b[0mRH\u001b[0m\u001b[0;34m.\u001b[0m\u001b[0mk\u001b[0m\u001b[0;34m.\u001b[0m\u001b[0ms\u001b[0m\u001b[0;34m,\u001b[0m\u001b[0mRH\u001b[0m\u001b[0;34m.\u001b[0m\u001b[0mq_vessel\u001b[0m\u001b[0;34m)\u001b[0m\u001b[0;34m\u001b[0m\u001b[0;34m\u001b[0m\u001b[0m\n\u001b[0m\u001b[1;32m      5\u001b[0m \u001b[0mplt\u001b[0m\u001b[0;34m.\u001b[0m\u001b[0mtitle\u001b[0m\u001b[0;34m(\u001b[0m\u001b[0;34m\"Source given by vessel\"\u001b[0m\u001b[0;34m)\u001b[0m\u001b[0;34m\u001b[0m\u001b[0;34m\u001b[0m\u001b[0m\n\u001b[1;32m      6\u001b[0m \u001b[0mplt\u001b[0m\u001b[0;34m.\u001b[0m\u001b[0mxlabel\u001b[0m\u001b[0;34m(\u001b[0m\u001b[0;34m\"s\"\u001b[0m\u001b[0;34m)\u001b[0m\u001b[0;34m\u001b[0m\u001b[0;34m\u001b[0m\u001b[0m\n",
      "\u001b[0;31mNameError\u001b[0m: name 'RH' is not defined"
     ]
    },
    {
     "data": {
      "text/plain": [
       "<Figure size 504x504 with 0 Axes>"
      ]
     },
     "metadata": {},
     "output_type": "display_data"
    }
   ],
   "source": [
    "from importlib import reload\n",
    "reload(RH)\n",
    "plt.figure()\n",
    "plt.plot(RH.k.s,RH.q_vessel)\n",
    "plt.title(\"Source given by vessel\")\n",
    "plt.xlabel(\"s\")\n"
   ]
  },
  {
   "cell_type": "code",
   "execution_count": 5,
   "metadata": {},
   "outputs": [
    {
     "ename": "NameError",
     "evalue": "name 'RH' is not defined",
     "output_type": "error",
     "traceback": [
      "\u001b[0;31m---------------------------------------------------------------------------\u001b[0m",
      "\u001b[0;31mNameError\u001b[0m                                 Traceback (most recent call last)",
      "\u001b[0;32m<ipython-input-5-fbe3f65020fb>\u001b[0m in \u001b[0;36m<module>\u001b[0;34m\u001b[0m\n\u001b[0;32m----> 1\u001b[0;31m \u001b[0mRH\u001b[0m\u001b[0;34m.\u001b[0m\u001b[0mmy_west_modification\u001b[0m\u001b[0;34m=\u001b[0m\u001b[0;32mTrue\u001b[0m\u001b[0;34m\u001b[0m\u001b[0;34m\u001b[0m\u001b[0m\n\u001b[0m\u001b[1;32m      2\u001b[0m \u001b[0mprint\u001b[0m\u001b[0;34m(\u001b[0m\u001b[0;34m\"inner mode: \"\u001b[0m\u001b[0;34m,\u001b[0m\u001b[0mRH\u001b[0m\u001b[0;34m.\u001b[0m\u001b[0minner_modification\u001b[0m\u001b[0;34m)\u001b[0m\u001b[0;34m\u001b[0m\u001b[0;34m\u001b[0m\u001b[0m\n\u001b[1;32m      3\u001b[0m \u001b[0mprint\u001b[0m\u001b[0;34m(\u001b[0m\u001b[0;34m\"west mode: \"\u001b[0m\u001b[0;34m,\u001b[0m \u001b[0mRH\u001b[0m\u001b[0;34m.\u001b[0m\u001b[0mwest_mode\u001b[0m\u001b[0;34m)\u001b[0m\u001b[0;34m\u001b[0m\u001b[0;34m\u001b[0m\u001b[0m\n\u001b[1;32m      4\u001b[0m \u001b[0mprint\u001b[0m\u001b[0;34m(\u001b[0m\u001b[0;34m\"My west mode: \"\u001b[0m\u001b[0;34m,\u001b[0m \u001b[0mRH\u001b[0m\u001b[0;34m.\u001b[0m\u001b[0mmy_west_mode\u001b[0m\u001b[0;34m)\u001b[0m\u001b[0;34m\u001b[0m\u001b[0;34m\u001b[0m\u001b[0m\n",
      "\u001b[0;31mNameError\u001b[0m: name 'RH' is not defined"
     ]
    }
   ],
   "source": [
    "RH.my_west_modification=True\n",
    "print(\"inner mode: \",RH.inner_modification)\n",
    "print(\"west mode: \", RH.west_mode)\n",
    "print(\"My west mode: \", RH.my_west_mode)"
   ]
  },
  {
   "cell_type": "code",
   "execution_count": null,
   "metadata": {},
   "outputs": [],
   "source": [
    "\n",
    "RH.compare_full_solutions(RH.rhs,  RH.r_rhs,\"rhs\", \"real_rhs\",[-1,0.8], \"Contour RHSs\")\n",
    "rhs_forlater=RH.rhs"
   ]
  },
  {
   "cell_type": "code",
   "execution_count": null,
   "metadata": {},
   "outputs": [],
   "source": [
    "RH.plot_profile(5, RH.k.s, RH.k.r, RH.rhs, RH.r_rhs, \"RHS real vs v\")"
   ]
  },
  {
   "cell_type": "code",
   "execution_count": null,
   "metadata": {},
   "outputs": [],
   "source": [
    "RH.s_plot_profile(0, RH.k.s, RH.k.r, RH.rhs, RH.r_rhs,\"RHS real vs v\")"
   ]
  },
  {
   "cell_type": "code",
   "execution_count": null,
   "metadata": {
    "scrolled": false
   },
   "outputs": [],
   "source": [
    "RH.plot_profile(-1, RH.k.s, RH.k.r, RH.rhs, RH.r_rhs,\"RHS real vs v\")"
   ]
  },
  {
   "cell_type": "markdown",
   "metadata": {},
   "source": [
    "In the following code, the vessel containing cells and the west boundaries are modified to equal the \"retro_engineered\" right hand side. After this two operations are done we continue "
   ]
  },
  {
   "cell_type": "code",
   "execution_count": null,
   "metadata": {},
   "outputs": [],
   "source": [
    "#RH.rhs[:,-1]=RH.r_rhs[:,-1]\n",
    "RH.rhs[0,:]=RH.r_rhs[0,:]\n",
    "RHS=np.ndarray.flatten(RH.rhs)"
   ]
  },
  {
   "cell_type": "code",
   "execution_count": null,
   "metadata": {},
   "outputs": [],
   "source": [
    "def plott(sol, title, cmin, cmax):\n",
    "    levels=np.linspace(cmin, cmax,20)\n",
    "    plt.contourf(sol, levels)\n",
    "    plt.ylabel(\"r\")\n",
    "    plt.xlabel(\"s\")\n",
    "    plt.title(title)\n",
    "    plt.colorbar()"
   ]
  },
  {
   "cell_type": "code",
   "execution_count": null,
   "metadata": {},
   "outputs": [],
   "source": [
    "sol=sp.sparse.linalg.spsolve(RH.Lap_operator, RHS).reshape(len(RH.k.r), len(RH.k.s))\n",
    "sol_plus=sol+RH.sol_sing\n",
    "plott(RH.real_v, \"modified solution\", -0.1, 0.5)\n"
   ]
  },
  {
   "cell_type": "code",
   "execution_count": null,
   "metadata": {},
   "outputs": [],
   "source": [
    "RH.compare_full_solutions(sol_plus,  RH.sol_real,\"split_modified\", \"real_sol\",[0,0.6], \"Contour modified\")"
   ]
  },
  {
   "cell_type": "code",
   "execution_count": null,
   "metadata": {},
   "outputs": [],
   "source": [
    "RH.compare_full_solutions(RH.rhs,  RH.r_rhs,\"rhs\", \"real_rhs\",[-1,0.8], \"Contour RHSs\")"
   ]
  },
  {
   "cell_type": "code",
   "execution_count": null,
   "metadata": {},
   "outputs": [],
   "source": [
    "RH.r_rhs[-1,:]\n"
   ]
  },
  {
   "cell_type": "code",
   "execution_count": null,
   "metadata": {},
   "outputs": [],
   "source": [
    "first_der=RH.get_first_der(RH.q_vessel,RH.k.inc_s).dot(RH.q_vessel)\n",
    "plt.plot(RH.k.s, first_der, label=\"first derivative vessel\")\n",
    "plt.legend()"
   ]
  },
  {
   "cell_type": "code",
   "execution_count": null,
   "metadata": {},
   "outputs": [],
   "source": [
    "plt.figure()\n",
    "plt.plot(RH.k.r, RH.Green(RH.k.r, RH.k.Rv), label=\"Green function\")\n",
    "plt.plot(RH.k.r, -RH.Green(RH.k.r, RH.k.Rv)*RH.q_first[-1], label=\"boundary value\")\n",
    "plt.legend()\n",
    "plt.xlabel(\"r\")"
   ]
  },
  {
   "cell_type": "code",
   "execution_count": null,
   "metadata": {},
   "outputs": [],
   "source": [
    "f=plt.figure(figsize=(10,20))\n",
    "\n",
    "# Create two subplots and unpack the output array immediately\n",
    "f, (ax1, ax2, ax3) = plt.subplots(1, 3,figsize=(12,8) )\n",
    "ax1.plot(RH.k.r[1:-1], RH.rhs[1:-1,-1])\n",
    "ax1.set_title(\"computed boundary value RHS\")\n",
    "ax2.plot(RH.k.r[1:-1], RH.r_rhs[1:-1,-1])\n",
    "ax2.set_title(\"real boundary value RHS\")\n",
    "ax3.plot(RH.k.r[1:-1], RH.r_rhs[1:-1,-1]/RH.rhs[1:-1,-1])\n",
    "ax3.set_title(\"ratio\")"
   ]
  },
  {
   "cell_type": "code",
   "execution_count": null,
   "metadata": {},
   "outputs": [],
   "source": [
    "1/RH.hs"
   ]
  },
  {
   "cell_type": "markdown",
   "metadata": {},
   "source": [
    "Fully modified:\n",
    "\n"
   ]
  },
  {
   "cell_type": "code",
   "execution_count": null,
   "metadata": {},
   "outputs": [],
   "source": [
    "RH.rhs[1:-1,-1]*=-1/RH.hs\n",
    "RH.rhs[0,:]=RH.r_rhs[0,:]\n",
    "RHS=np.ndarray.flatten(RH.rhs)\n",
    "sol=sp.sparse.linalg.spsolve(RH.Lap_operator, RHS).reshape(len(RH.k.r), len(RH.k.s))\n",
    "sol_plus=sol+RH.sol_sing\n",
    "RH.plott(sol_plus, \"modified solution\", -0.1,0.9)\n",
    "RH.compare_full_solutions(sol_plus,  RH.sol_real,\"split_modified\", \"real_sol\",[0,1], \"Contour modified\")"
   ]
  },
  {
   "cell_type": "code",
   "execution_count": null,
   "metadata": {},
   "outputs": [],
   "source": [
    "RH.rhs=rhs_forlater"
   ]
  },
  {
   "cell_type": "code",
   "execution_count": null,
   "metadata": {},
   "outputs": [],
   "source": [
    "RHS=np.ndarray.flatten(RH.rhs)\n",
    "sol=sp.sparse.linalg.spsolve(RH.Lap_operator, RHS).reshape(len(RH.k.r), len(RH.k.z))\n",
    "sol_plus=sol+RH.sol_sing\n",
    "RH.plott(sol_plus, \"modified solution\")\n",
    "RH.compare_full_solutions(sol_plus,  RH.sol_real,\"split_modified\", \"real_sol\",[0,1], \"Contour modified\")"
   ]
  },
  {
   "cell_type": "code",
   "execution_count": null,
   "metadata": {},
   "outputs": [],
   "source": []
  },
  {
   "cell_type": "code",
   "execution_count": null,
   "metadata": {},
   "outputs": [],
   "source": []
  }
 ],
 "metadata": {
  "kernelspec": {
   "display_name": "Python 3",
   "language": "python",
   "name": "python3"
  },
  "language_info": {
   "codemirror_mode": {
    "name": "ipython",
    "version": 3
   },
   "file_extension": ".py",
   "mimetype": "text/x-python",
   "name": "python",
   "nbconvert_exporter": "python",
   "pygments_lexer": "ipython3",
   "version": "3.8.5"
  }
 },
 "nbformat": 4,
 "nbformat_minor": 4
}
