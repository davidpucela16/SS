{
 "cells": [
  {
   "cell_type": "markdown",
   "metadata": {},
   "source": [
    "%reset"
   ]
  },
  {
   "cell_type": "code",
   "execution_count": 115,
   "metadata": {},
   "outputs": [
    {
     "name": "stdout",
     "output_type": "stream",
     "text": [
      "Once deleted, variables cannot be recovered. Proceed (y/[n])? y\n"
     ]
    }
   ],
   "source": [
    "%reset"
   ]
  },
  {
   "cell_type": "code",
   "execution_count": 116,
   "metadata": {},
   "outputs": [],
   "source": [
    "import numpy as np\n",
    "from scipy import sparse\n",
    "import matplotlib.pyplot as plt \n",
    "import matplotlib.patches as mpatches\n",
    "import matplotlib.gridspec as gridspec\n",
    "import scipy as sp\n",
    "import scipy.sparse.linalg\n",
    "import time\n",
    "from scipy import interpolate\n",
    "\n",
    "plt.rcParams[\"figure.figsize\"] = (8,8)\n",
    "\n",
    "from RHS_for_v import *"
   ]
  },
  {
   "cell_type": "code",
   "execution_count": 117,
   "metadata": {},
   "outputs": [],
   "source": [
    "from importlib import reload\n",
    "\n",
    "R_max=1\n",
    "L=1\n",
    "s_points=100\n",
    "r_points=100\n",
    "Rv=0.05\n",
    "D=1\n",
    "K_eff=5\n",
    "inner_modification=False\n",
    "my_west_mode=True\n",
    "sour=\"cosine\""
   ]
  },
  {
   "cell_type": "code",
   "execution_count": 158,
   "metadata": {},
   "outputs": [],
   "source": [
    "obj_fine=simplified_assembly_Laplacian_cylindrical(R_max, Rv,r_points,s_points, L, D)\n",
    "f_hs, f_hr=obj_fine.inc_s, obj_fine.inc_r\n",
    "Lap_operator=obj_fine.assembly().toarray()\n",
    "\n",
    "f_r=obj_fine.r\n",
    "f_s=obj_fine.s"
   ]
  },
  {
   "cell_type": "code",
   "execution_count": 119,
   "metadata": {},
   "outputs": [],
   "source": [
    "if sour==\"cosine\":\n",
    "    #Set an analytical source profile\n",
    "    q_vessel=np.cos(obj_fine.s/(L*0.7))\n",
    "    q_first=-(1/(L*0.7))*np.sin(obj_fine.s/(L*0.7))\n",
    "    q_sec=-np.cos(obj_fine.s/(L*0.7))*(1/(L*0.7))**2\n",
    "if sour==\"constant\":\n",
    "    q_vessel=np.zeros(len(obj_fine.s))+1\n",
    "    q_first=q_vessel-1\n",
    "    q_sec=q_vessel-1"
   ]
  },
  {
   "cell_type": "code",
   "execution_count": 120,
   "metadata": {},
   "outputs": [],
   "source": [
    "#Set Dirichlet on the outer boundary\n",
    "ext_boundary=np.concatenate([[obj_fine.corners[2]], obj_fine.outer_boundary, [obj_fine.corners[3]]])\n",
    "Lap_operator[obj_fine.outer_boundary,:]=0\n",
    "Lap_operator[obj_fine.outer_boundary,obj_fine.outer_boundary]=1"
   ]
  },
  {
   "cell_type": "code",
   "execution_count": 121,
   "metadata": {},
   "outputs": [],
   "source": [
    "sing_sing_fine=np.outer(Green(obj_fine.r, Rv), q_vessel)\n",
    "sol_real_fine=get_RHS_validation(Lap_operator,q_vessel, Rv, obj_fine.inc_r,obj_fine.inc_s, D, ext_boundary)\n",
    "v_real_fine=sol_real_fine-sing_sing_fine\n",
    "rhs_real_fine=Lap_operator.dot(np.ndarray.flatten(v_real_fine))\n",
    "RHS_real_fine=rhs_real_fine.reshape(len(f_r), len(f_r))"
   ]
  },
  {
   "cell_type": "code",
   "execution_count": 122,
   "metadata": {},
   "outputs": [],
   "source": [
    "#Coarse_solution\n",
    "coarse_r_points=10\n",
    "coarse_s_points=10\n",
    "\n",
    "\n",
    "#Let's create the Laplacian operator with the proper boundary conditions (Dirichlet north and \n",
    "#no flux east and west)\n",
    "obj_coarse=simplified_assembly_Laplacian_cylindrical(R_max, Rv,coarse_r_points,coarse_s_points, L, D)\n",
    "coarse_Lap=obj_coarse.assembly().toarray()\n",
    "\n",
    "c_r=obj_coarse.r\n",
    "c_s=obj_coarse.s\n",
    "c_hs=obj_coarse.inc_s\n",
    "c_hr=obj_coarse.inc_r\n",
    "\n",
    "obj_RHS=get_coarse_RHS_v(obj_coarse, obj_fine, q_vessel, q_sec, q_first, coarse_Lap)\n",
    "\n",
    "\n",
    "total_no_ghost=coarse_r_points*coarse_s_points\n",
    "obj_RHS.seg_north_with_ghost()\n",
    "RHS_split_coarse=obj_RHS.get_east_west_RHS()\n",
    "RHS_split_coarse+=np.ndarray.flatten(obj_RHS.get_RHS_v())\n",
    "RHSghost_split_coarse=obj_RHS.RHS_ghost\n",
    "RHSghost_split_coarse[:total_no_ghost]=RHS_split_coarse\n",
    "\n",
    "            \n",
    "v_split_coarse=np.linalg.solve(obj_RHS.ghost_coarse_Lap,RHSghost_split_coarse)\n",
    "vghost_split_coarse=v_split_coarse[:total_no_ghost]\n",
    "\n",
    "f = interpolate.interp2d(obj_RHS.ghost_coarse.s,obj_RHS.ghost_coarse.r[:-1] , vghost_split_coarse.reshape(len(obj_RHS.ghost_coarse.r[:-1]), len(obj_RHS.ghost_coarse.s)), kind='linear')\n",
    "vghost_split_interp=f(f_r, f_s)"
   ]
  },
  {
   "cell_type": "markdown",
   "metadata": {},
   "source": [
    "COUPLED PROBLEM"
   ]
  },
  {
   "cell_type": "code",
   "execution_count": 123,
   "metadata": {},
   "outputs": [
    {
     "data": {
      "text/plain": [
       "[<matplotlib.lines.Line2D at 0x7f54013b82e0>]"
      ]
     },
     "execution_count": 123,
     "metadata": {},
     "output_type": "execute_result"
    },
    {
     "data": {
      "image/png": "[encoded data removed]",
      "text/plain": [
       "<Figure size 576x576 with 1 Axes>"
      ]
     },
     "metadata": {
      "needs_background": "light"
     },
     "output_type": "display_data"
    }
   ],
   "source": [
    "plt.plot(q_vessel)"
   ]
  },
  {
   "cell_type": "code",
   "execution_count": 125,
   "metadata": {},
   "outputs": [
    {
     "data": {
      "text/plain": [
       "<matplotlib.colorbar.Colorbar at 0x7f54011f3f10>"
      ]
     },
     "execution_count": 125,
     "metadata": {},
     "output_type": "execute_result"
    },
    {
     "data": {
      "image/png": "[encoded data removed]",
      "text/plain": [
       "<Figure size 576x576 with 2 Axes>"
      ]
     },
     "metadata": {
      "needs_background": "light"
     },
     "output_type": "display_data"
    }
   ],
   "source": [
    "plt.contourf(sol_real_fine); plt.colorbar()"
   ]
  },
  {
   "cell_type": "markdown",
   "metadata": {},
   "source": [
    "sing_sing_fine=np.outer(Green(obj_fine.r, Rv), q_vessel)\n",
    "sol_real_fine=get_RHS_validation(Lap_operator,q_vessel, Rv, obj_fine.inc_r,obj_fine.inc_s, D, ext_boundary)\n",
    "v_real_fine=sol_real_fine-sing_sing_fine\n",
    "rhs_real_fine=Lap_operator.dot(np.ndarray.flatten(v_real_fine))\n",
    "RHS_real_fine=rhs_real_fine.reshape(len(f_r), len(f_r))"
   ]
  },
  {
   "cell_type": "code",
   "execution_count": 150,
   "metadata": {},
   "outputs": [],
   "source": [
    "#Lap fine, with Dirichlet norht -> Lap_operator, f_s, f_r, \n",
    "\n",
    "inner_boundary=np.concatenate([[obj_fine.corners[0]],obj_fine.inner_boundary, [obj_fine.corners[1]]])\n"
   ]
  },
  {
   "cell_type": "code",
   "execution_count": 151,
   "metadata": {},
   "outputs": [],
   "source": [
    "def get_RHS_validation_coupled(Lap_operator,phi_vessel, Rv, inc_r, inc_s, D, ext_boundary,K_eff):\n",
    "    \"\"\"modifies the lap_operator and the RHS in order to accomodate the incomming flux\"\"\"\n",
    "    RHS=np.zeros(Lap_operator.shape[0])\n",
    "    factor=(K_eff*np.pi*Rv**2)/(D*np.pi*(2*Rv+inc_r)*inc_r)\n",
    "    #factor=(K_eff*np.pi*Rv**2)/(2*np.pi*(Rv+inc_r/2)*inc_r)\n",
    "    print(factor)\n",
    "    i=np.arange(len(q_vessel))\n",
    "    RHS[i]=-factor*q_vessel\n",
    "    \n",
    "    RHS[ext_boundary]=0\n",
    "    Lap_operator[ext_boundary,:]=0\n",
    "    Lap_operator[ext_boundary, ext_boundary]=1  \n",
    "    \n",
    "    #Lap_operator[i,i]-=factor\n",
    "    \n",
    "    sol=np.linalg.solve(Lap_operator, RHS)\n",
    "    lenr=len(RHS)/len(q_vessel)\n",
    "    return(sol.reshape(int(lenr), len(q_vessel)))"
   ]
  },
  {
   "cell_type": "code",
   "execution_count": 152,
   "metadata": {},
   "outputs": [],
   "source": [
    "obj_coupled=simplified_assembly_Laplacian_cylindrical(R_max, Rv,r_points,s_points, L, D)\n",
    "f_hs, f_hr=obj_coupled.inc_s, obj_coupled.inc_r\n",
    "Lap_coupled=obj_fine.assembly().toarray()\n",
    "\n",
    "f_r=obj_fine.r\n",
    "f_s=obj_fine.s\n",
    "\n",
    "\n",
    "ext_boundary=np.concatenate([[obj_fine.corners[2]], obj_fine.outer_boundary, [obj_fine.corners[3]]])"
   ]
  },
  {
   "cell_type": "code",
   "execution_count": 153,
   "metadata": {},
   "outputs": [],
   "source": [
    "if sour==\"cosine\":\n",
    "    #Set an analytical source profile\n",
    "    q_vessel=np.cos(obj_fine.s/(L*0.7))\n",
    "    q_first=-(1/(L*0.7))*np.sin(obj_fine.s/(L*0.7))\n",
    "    q_sec=-np.cos(obj_fine.s/(L*0.7))*(1/(L*0.7))**2\n",
    "if sour==\"constant\":\n",
    "    q_vessel=np.zeros(len(obj_fine.s))+1\n",
    "    q_first=q_vessel-1\n",
    "    q_sec=q_vessel-1"
   ]
  },
  {
   "cell_type": "code",
   "execution_count": 154,
   "metadata": {},
   "outputs": [
    {
     "name": "stdout",
     "output_type": "stream",
     "text": [
      "302.66846417534157\n"
     ]
    }
   ],
   "source": [
    "K_eff=1/(np.pi*Rv**2)\n",
    "sol_real_fine_coupled=get_RHS_validation_coupled(Lap_operator,q_vessel, Rv,obj_coupled.inc_r, obj_coupled.inc_s, D, ext_boundary,K_eff)"
   ]
  },
  {
   "cell_type": "code",
   "execution_count": 155,
   "metadata": {},
   "outputs": [
    {
     "name": "stdout",
     "output_type": "stream",
     "text": [
      "127.32395447351627\n"
     ]
    },
    {
     "data": {
      "image/png": "[encoded data removed]",
      "text/plain": [
       "<Figure size 576x576 with 2 Axes>"
      ]
     },
     "metadata": {
      "needs_background": "light"
     },
     "output_type": "display_data"
    }
   ],
   "source": [
    "print(K_eff)\n",
    "plott(sol_real_fine_coupled, \"sol_real_fine_coupled\",0,np.max(sol_real_fine_coupled))\n"
   ]
  },
  {
   "cell_type": "code",
   "execution_count": 156,
   "metadata": {},
   "outputs": [
    {
     "data": {
      "text/plain": [
       "[<matplotlib.lines.Line2D at 0x7f5400b3a3a0>]"
      ]
     },
     "execution_count": 156,
     "metadata": {},
     "output_type": "execute_result"
    },
    {
     "data": {
      "image/png": "[encoded data removed]",
      "text/plain": [
       "<Figure size 576x576 with 1 Axes>"
      ]
     },
     "metadata": {
      "needs_background": "light"
     },
     "output_type": "display_data"
    }
   ],
   "source": [
    "coupled_q_vessel_fine=np.pi*Rv**2*K_eff*(q_vessel-sol_real_fine_coupled[0,:])\n",
    "plt.plot(coupled_q_vessel_fine)"
   ]
  },
  {
   "cell_type": "code",
   "execution_count": 164,
   "metadata": {},
   "outputs": [
    {
     "data": {
      "image/png": "[encoded data removed]",
      "text/plain": [
       "<Figure size 576x576 with 2 Axes>"
      ]
     },
     "metadata": {
      "needs_background": "light"
     },
     "output_type": "display_data"
    }
   ],
   "source": [
    "plott(get_RHS_validation(Lap_operator,coupled_q_vessel_fine, Rv, f_r, f_s, D, ext_boundary),\"kk\",0,0.01)"
   ]
  },
  {
   "cell_type": "code",
   "execution_count": 163,
   "metadata": {},
   "outputs": [
    {
     "data": {
      "text/plain": [
       "0.017738070961618828"
      ]
     },
     "execution_count": 163,
     "metadata": {},
     "output_type": "execute_result"
    }
   ],
   "source": [
    "np.max(get_RHS_validation(Lap_operator,coupled_q_vessel_fine, Rv, f_r, f_s, D, ext_boundary))"
   ]
  },
  {
   "cell_type": "code",
   "execution_count": null,
   "metadata": {},
   "outputs": [],
   "source": []
  }
 ],
 "metadata": {
  "kernelspec": {
   "display_name": "Python 3",
   "language": "python",
   "name": "python3"
  },
  "language_info": {
   "codemirror_mode": {
    "name": "ipython",
    "version": 3
   },
   "file_extension": ".py",
   "mimetype": "text/x-python",
   "name": "python",
   "nbconvert_exporter": "python",
   "pygments_lexer": "ipython3",
   "version": "3.8.5"
  }
 },
 "nbformat": 4,
 "nbformat_minor": 4
}
