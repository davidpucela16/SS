{
 "cells": [
  {
   "cell_type": "code",
   "execution_count": 362,
   "metadata": {},
   "outputs": [],
   "source": [
    "import numpy as np\n",
    "from scipy import sparse\n",
    "import matplotlib.pyplot as plt \n",
    "import matplotlib.patches as mpatches\n",
    "import matplotlib.gridspec as gridspec\n",
    "import scipy as sp\n",
    "import scipy.sparse.linalg\n",
    "import time\n",
    "\n",
    "import os \n",
    "  \n",
    "os.chdir('/home/pdavid/Bureau/Code/Solution_splitting/Solution_splitting_cylindrical_vessel') \n",
    "\n",
    "from RHS_for_v import simplified_assembly_Laplacian_cylindrical\n",
    "from RHS_for_v import matrix_coeff\n",
    "from RHS_for_v import get_sec_der"
   ]
  },
  {
   "cell_type": "markdown",
   "metadata": {},
   "source": [
    "This code under is for the meeting with Franck Boyer. Simple graph of the accurate well-block pressure. It is appropriate that it is here. It may be useful in the future"
   ]
  },
  {
   "cell_type": "code",
   "execution_count": 363,
   "metadata": {},
   "outputs": [],
   "source": [
    "def oneD_Laplacian(inc_r, r):\n",
    "    lenr=len(r)\n",
    "    Lap=np.zeros([lenr, lenr])\n",
    "    for i in np.arange(lenr-2)+1:\n",
    "        Lap[i,i-1]=(r[i]-inc_r/2)/(r[i]*inc_r**2)\n",
    "        Lap[i,i]=-2/inc_r**2\n",
    "        Lap[i,i+1]=(r[i]+inc_r/2)/(r[i]*inc_r**2)\n",
    "    \n",
    "    Lap[0,0]=2/inc_r**2\n",
    "    Lap[0,1]=-2/inc_r**2\n",
    "    Lap[-1,-1]=-(r[-1]-inc_r/2)/(r[-1]*inc_r**2)\n",
    "    Lap[-1,-2]=(r[-1]-inc_r/2)/(r[-1]*inc_r**2)\n",
    "    return(Lap)\n",
    "    "
   ]
  },
  {
   "cell_type": "code",
   "execution_count": 391,
   "metadata": {},
   "outputs": [],
   "source": [
    "def plot_sol(Rm, nb_points, q, D):\n",
    "    r=np.linspace(0,Rm,nb_points)\n",
    "    inc_r=Rm/(nb_points-1)\n",
    "    print(inc_r)\n",
    "    lap=oneD_Laplacian(inc_r, r)\n",
    "    RHS=np.zeros([lap.shape[0]])\n",
    "    RHS[0]=q/(D*np.pi*inc_r**2)\n",
    "    lap[-1,:]=0\n",
    "    lap[-1,-1]=1\n",
    "\n",
    "    sol=np.linalg.solve(lap,RHS)\n",
    "    plt.plot(r,sol)\n",
    "    return(sol)\n",
    "\n",
    "def plot_comparison(r, sol, sol_num, r_num, inc_r_num, avg):\n",
    "    plt.figure()\n",
    "    c=0\n",
    "    for i in r_num:\n",
    "        plt.hlines(y = sol_num[c], xmin = r_num[c]-inc_r_num/2, xmax = r_num[c]+inc_r_num/2)  \n",
    "        c+=1\n",
    "    plt.plot(r, sol, 'r')\n",
    "    \n",
    "    plt.plot([-inc_r_num/2,inc_r_num/2], [avg,avg], 'g')\n",
    "    \n",
    "    plt.xlabel(\"r\")\n",
    "    plt.ylabel(\"concentration\")\n",
    "    \n",
    "    plt.legend([\"analytical\", \"average\", \"numerical\"])\n",
    "    "
   ]
  },
  {
   "cell_type": "code",
   "execution_count": 392,
   "metadata": {},
   "outputs": [],
   "source": [
    "Rm=L=10\n",
    "\n",
    "nb_points=100\n",
    "Rv=Rm/nb_points\n",
    "r_g=np.linspace(0,Rm,nb_points)\n",
    "\n",
    "z=np.linspace(0,L,nb_points)\n",
    "\n"
   ]
  },
  {
   "cell_type": "code",
   "execution_count": 393,
   "metadata": {},
   "outputs": [
    {
     "name": "stdout",
     "output_type": "stream",
     "text": [
      "0.10101010101010101\n",
      "1.1111111111111112\n"
     ]
    },
    {
     "data": {
      "image/png": "[encoded data removed]",
      "text/plain": [
       "<Figure size 432x288 with 1 Axes>"
      ]
     },
     "metadata": {
      "needs_background": "light"
     },
     "output_type": "display_data"
    }
   ],
   "source": [
    "sol=plot_sol(Rm, nb_points, 1,1)\n",
    "nb_points=nb_points//10\n",
    "r_num=np.linspace(0,Rm,nb_points)\n",
    "\n",
    "sol_num=plot_sol(Rm, nb_points, 1,1)\n",
    "sol_num=np.concatenate([sol_num[::-1], sol_num])\n",
    "r_num=np.concatenate([-r_num[::-1], r_num])\n",
    "sol=np.concatenate([sol[::-1], sol])\n",
    "r=np.concatenate([-r_g[::-1], r_g])"
   ]
  },
  {
   "cell_type": "code",
   "execution_count": 394,
   "metadata": {},
   "outputs": [
    {
     "data": {
      "image/png": "[encoded data removed]",
      "text/plain": [
       "<Figure size 432x288 with 1 Axes>"
      ]
     },
     "metadata": {
      "needs_background": "light"
     },
     "output_type": "display_data"
    }
   ],
   "source": [
    "inc_r_num=Rm/(nb_points-1)\n",
    "plot_comparison(r, sol, sol_num , r_num , inc_r_num,0.4)\n"
   ]
  },
  {
   "cell_type": "code",
   "execution_count": 368,
   "metadata": {},
   "outputs": [
    {
     "data": {
      "text/plain": [
       "(200,)"
      ]
     },
     "execution_count": 368,
     "metadata": {},
     "output_type": "execute_result"
    }
   ],
   "source": [
    "r.shape"
   ]
  },
  {
   "cell_type": "code",
   "execution_count": null,
   "metadata": {},
   "outputs": [],
   "source": []
  }
 ],
 "metadata": {
  "kernelspec": {
   "display_name": "Python 3",
   "language": "python",
   "name": "python3"
  },
  "language_info": {
   "codemirror_mode": {
    "name": "ipython",
    "version": 3
   },
   "file_extension": ".py",
   "mimetype": "text/x-python",
   "name": "python",
   "nbconvert_exporter": "python",
   "pygments_lexer": "ipython3",
   "version": "3.8.5"
  }
 },
 "nbformat": 4,
 "nbformat_minor": 4
}
