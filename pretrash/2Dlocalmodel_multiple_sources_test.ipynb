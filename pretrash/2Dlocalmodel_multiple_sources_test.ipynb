{
 "cells": [
  {
   "cell_type": "code",
   "execution_count": null,
   "metadata": {},
   "outputs": [],
   "source": []
  },
  {
   "cell_type": "code",
   "execution_count": 1,
   "metadata": {},
   "outputs": [
    {
     "name": "stdout",
     "output_type": "stream",
     "text": [
      "directness= 2\n",
      "> \u001b[0;32m/home/pdavid/Bureau/Code/SS/2D_cartesian/SS_code/FV_metab/module_2D_coupling_FV_nogrid.py\u001b[0m(1013)\u001b[0;36mnon_linear_problem\u001b[0;34m()\u001b[0m\n",
      "\u001b[0;32m   1011 \u001b[0;31m            \u001b[0mq\u001b[0m\u001b[0;34m=\u001b[0m\u001b[0mphi\u001b[0m\u001b[0;34m[\u001b[0m\u001b[0;34m-\u001b[0m\u001b[0;36m1\u001b[0m\u001b[0;34m,\u001b[0m\u001b[0;34m-\u001b[0m\u001b[0mlen\u001b[0m\u001b[0;34m(\u001b[0m\u001b[0mself\u001b[0m\u001b[0;34m.\u001b[0m\u001b[0mpos_s\u001b[0m\u001b[0;34m)\u001b[0m\u001b[0;34m:\u001b[0m\u001b[0;34m]\u001b[0m\u001b[0;34m\u001b[0m\u001b[0;34m\u001b[0m\u001b[0m\n",
      "\u001b[0m\u001b[0;32m   1012 \u001b[0;31m            \u001b[0mpdb\u001b[0m\u001b[0;34m.\u001b[0m\u001b[0mset_trace\u001b[0m\u001b[0;34m(\u001b[0m\u001b[0;34m)\u001b[0m\u001b[0;34m\u001b[0m\u001b[0;34m\u001b[0m\u001b[0m\n",
      "\u001b[0m\u001b[0;32m-> 1013 \u001b[0;31m            \u001b[0mG_L\u001b[0m\u001b[0;34m,\u001b[0m \u001b[0mG_NL\u001b[0m\u001b[0;34m=\u001b[0m\u001b[0mself\u001b[0m\u001b[0;34m.\u001b[0m\u001b[0massemble_G\u001b[0m\u001b[0;34m(\u001b[0m\u001b[0mu\u001b[0m\u001b[0;34m,\u001b[0m\u001b[0mq\u001b[0m\u001b[0;34m,\u001b[0m\u001b[0mm\u001b[0m\u001b[0;34m)\u001b[0m\u001b[0;34m\u001b[0m\u001b[0;34m\u001b[0m\u001b[0m\n",
      "\u001b[0m\u001b[0;32m   1014 \u001b[0;31m\u001b[0;34m\u001b[0m\u001b[0m\n",
      "\u001b[0m\u001b[0;32m   1015 \u001b[0;31m            \u001b[0mcurrent\u001b[0m\u001b[0;34m=\u001b[0m\u001b[0;34m(\u001b[0m\u001b[0mG_L\u001b[0m\u001b[0;34m+\u001b[0m\u001b[0mnp\u001b[0m\u001b[0;34m.\u001b[0m\u001b[0mconcatenate\u001b[0m\u001b[0;34m(\u001b[0m\u001b[0;34m(\u001b[0m\u001b[0mG_NL\u001b[0m\u001b[0;34m,\u001b[0m\u001b[0mnp\u001b[0m\u001b[0;34m.\u001b[0m\u001b[0mzeros\u001b[0m\u001b[0;34m(\u001b[0m\u001b[0mlen\u001b[0m\u001b[0;34m(\u001b[0m\u001b[0mpos_s\u001b[0m\u001b[0;34m)\u001b[0m\u001b[0;34m)\u001b[0m\u001b[0;34m)\u001b[0m\u001b[0;34m)\u001b[0m\u001b[0;34m*\u001b[0m\u001b[0mm\u001b[0m\u001b[0;34m)\u001b[0m\u001b[0;34m/\u001b[0m\u001b[0mrelax\u001b[0m\u001b[0;34m\u001b[0m\u001b[0;34m\u001b[0m\u001b[0m\n",
      "\u001b[0m\n",
      "ipdb> exit\n"
     ]
    },
    {
     "ename": "BdbQuit",
     "evalue": "",
     "output_type": "error",
     "traceback": [
      "\u001b[0;31m---------------------------------------------------------------------------\u001b[0m",
      "\u001b[0;31mBdbQuit\u001b[0m                                   Traceback (most recent call last)",
      "\u001b[0;32m<ipython-input-1-3b46670f2c3d>\u001b[0m in \u001b[0;36m<module>\u001b[0;34m\u001b[0m\n\u001b[1;32m      1\u001b[0m \u001b[0;32mimport\u001b[0m \u001b[0mnumpy\u001b[0m \u001b[0;32mas\u001b[0m \u001b[0mnp\u001b[0m\u001b[0;34m\u001b[0m\u001b[0;34m\u001b[0m\u001b[0m\n\u001b[1;32m      2\u001b[0m \u001b[0;32mimport\u001b[0m \u001b[0mmatplotlib\u001b[0m\u001b[0;34m.\u001b[0m\u001b[0mpyplot\u001b[0m \u001b[0;32mas\u001b[0m \u001b[0mplt\u001b[0m\u001b[0;34m\u001b[0m\u001b[0;34m\u001b[0m\u001b[0m\n\u001b[0;32m----> 3\u001b[0;31m \u001b[0;32mfrom\u001b[0m \u001b[0mmodule_2D_coupling_FV_nogrid\u001b[0m \u001b[0;32mimport\u001b[0m \u001b[0;34m*\u001b[0m\u001b[0;34m\u001b[0m\u001b[0;34m\u001b[0m\u001b[0m\n\u001b[0m\u001b[1;32m      4\u001b[0m \u001b[0;32mimport\u001b[0m \u001b[0mreconst_and_test_module\u001b[0m \u001b[0;32mas\u001b[0m \u001b[0mpost\u001b[0m\u001b[0;34m\u001b[0m\u001b[0;34m\u001b[0m\u001b[0m\n\u001b[1;32m      5\u001b[0m \u001b[0;32mimport\u001b[0m \u001b[0mrandom\u001b[0m\u001b[0;34m\u001b[0m\u001b[0;34m\u001b[0m\u001b[0m\n",
      "\u001b[0;32m~/Bureau/Code/SS/2D_cartesian/SS_code/FV_metab/module_2D_coupling_FV_nogrid.py\u001b[0m in \u001b[0;36m<module>\u001b[0;34m\u001b[0m\n\u001b[1;32m   1117\u001b[0m \u001b[0ma\u001b[0m\u001b[0;34m=\u001b[0m\u001b[0mnon_linear_metab\u001b[0m\u001b[0;34m(\u001b[0m\u001b[0mpos_s\u001b[0m\u001b[0;34m,\u001b[0m \u001b[0mRv\u001b[0m\u001b[0;34m,\u001b[0m \u001b[0mh_ss\u001b[0m\u001b[0;34m,\u001b[0m \u001b[0mL\u001b[0m\u001b[0;34m,\u001b[0m \u001b[0mK_eff\u001b[0m\u001b[0;34m,\u001b[0m \u001b[0mD\u001b[0m\u001b[0;34m,\u001b[0m \u001b[0mdirectness\u001b[0m\u001b[0;34m)\u001b[0m\u001b[0;34m\u001b[0m\u001b[0;34m\u001b[0m\u001b[0m\n\u001b[1;32m   1118\u001b[0m \u001b[0ma\u001b[0m\u001b[0;34m.\u001b[0m\u001b[0msolve_linear_prob\u001b[0m\u001b[0;34m(\u001b[0m\u001b[0mnp\u001b[0m\u001b[0;34m.\u001b[0m\u001b[0mzeros\u001b[0m\u001b[0;34m(\u001b[0m\u001b[0;36m4\u001b[0m\u001b[0;34m)\u001b[0m\u001b[0;34m)\u001b[0m\u001b[0;34m\u001b[0m\u001b[0;34m\u001b[0m\u001b[0m\n\u001b[0;32m-> 1119\u001b[0;31m \u001b[0ma\u001b[0m\u001b[0;34m.\u001b[0m\u001b[0mnon_linear_problem\u001b[0m\u001b[0;34m(\u001b[0m\u001b[0;36m0.2\u001b[0m\u001b[0;34m,\u001b[0m \u001b[0;36m0.1\u001b[0m\u001b[0;34m,\u001b[0m \u001b[0;36m1\u001b[0m\u001b[0;34m)\u001b[0m\u001b[0;34m\u001b[0m\u001b[0;34m\u001b[0m\u001b[0m\n\u001b[0m\u001b[1;32m   1120\u001b[0m \u001b[0;34m\u001b[0m\u001b[0m\n\u001b[1;32m   1121\u001b[0m \u001b[0;34m\u001b[0m\u001b[0m\n",
      "\u001b[0;32m~/Bureau/Code/SS/2D_cartesian/SS_code/FV_metab/module_2D_coupling_FV_nogrid.py\u001b[0m in \u001b[0;36mnon_linear_problem\u001b[0;34m(self, M, phi_0, relax)\u001b[0m\n\u001b[1;32m   1011\u001b[0m             \u001b[0mq\u001b[0m\u001b[0;34m=\u001b[0m\u001b[0mphi\u001b[0m\u001b[0;34m[\u001b[0m\u001b[0;34m-\u001b[0m\u001b[0;36m1\u001b[0m\u001b[0;34m,\u001b[0m\u001b[0;34m-\u001b[0m\u001b[0mlen\u001b[0m\u001b[0;34m(\u001b[0m\u001b[0mself\u001b[0m\u001b[0;34m.\u001b[0m\u001b[0mpos_s\u001b[0m\u001b[0;34m)\u001b[0m\u001b[0;34m:\u001b[0m\u001b[0;34m]\u001b[0m\u001b[0;34m\u001b[0m\u001b[0;34m\u001b[0m\u001b[0m\n\u001b[1;32m   1012\u001b[0m             \u001b[0mpdb\u001b[0m\u001b[0;34m.\u001b[0m\u001b[0mset_trace\u001b[0m\u001b[0;34m(\u001b[0m\u001b[0;34m)\u001b[0m\u001b[0;34m\u001b[0m\u001b[0;34m\u001b[0m\u001b[0m\n\u001b[0;32m-> 1013\u001b[0;31m             \u001b[0mG_L\u001b[0m\u001b[0;34m,\u001b[0m \u001b[0mG_NL\u001b[0m\u001b[0;34m=\u001b[0m\u001b[0mself\u001b[0m\u001b[0;34m.\u001b[0m\u001b[0massemble_G\u001b[0m\u001b[0;34m(\u001b[0m\u001b[0mu\u001b[0m\u001b[0;34m,\u001b[0m\u001b[0mq\u001b[0m\u001b[0;34m,\u001b[0m\u001b[0mm\u001b[0m\u001b[0;34m)\u001b[0m\u001b[0;34m\u001b[0m\u001b[0;34m\u001b[0m\u001b[0m\n\u001b[0m\u001b[1;32m   1014\u001b[0m \u001b[0;34m\u001b[0m\u001b[0m\n\u001b[1;32m   1015\u001b[0m             \u001b[0mcurrent\u001b[0m\u001b[0;34m=\u001b[0m\u001b[0;34m(\u001b[0m\u001b[0mG_L\u001b[0m\u001b[0;34m+\u001b[0m\u001b[0mnp\u001b[0m\u001b[0;34m.\u001b[0m\u001b[0mconcatenate\u001b[0m\u001b[0;34m(\u001b[0m\u001b[0;34m(\u001b[0m\u001b[0mG_NL\u001b[0m\u001b[0;34m,\u001b[0m\u001b[0mnp\u001b[0m\u001b[0;34m.\u001b[0m\u001b[0mzeros\u001b[0m\u001b[0;34m(\u001b[0m\u001b[0mlen\u001b[0m\u001b[0;34m(\u001b[0m\u001b[0mpos_s\u001b[0m\u001b[0;34m)\u001b[0m\u001b[0;34m)\u001b[0m\u001b[0;34m)\u001b[0m\u001b[0;34m)\u001b[0m\u001b[0;34m*\u001b[0m\u001b[0mm\u001b[0m\u001b[0;34m)\u001b[0m\u001b[0;34m/\u001b[0m\u001b[0mrelax\u001b[0m\u001b[0;34m\u001b[0m\u001b[0;34m\u001b[0m\u001b[0m\n",
      "\u001b[0;32m~/Bureau/Code/SS/2D_cartesian/SS_code/FV_metab/module_2D_coupling_FV_nogrid.py\u001b[0m in \u001b[0;36mnon_linear_problem\u001b[0;34m(self, M, phi_0, relax)\u001b[0m\n\u001b[1;32m   1011\u001b[0m             \u001b[0mq\u001b[0m\u001b[0;34m=\u001b[0m\u001b[0mphi\u001b[0m\u001b[0;34m[\u001b[0m\u001b[0;34m-\u001b[0m\u001b[0;36m1\u001b[0m\u001b[0;34m,\u001b[0m\u001b[0;34m-\u001b[0m\u001b[0mlen\u001b[0m\u001b[0;34m(\u001b[0m\u001b[0mself\u001b[0m\u001b[0;34m.\u001b[0m\u001b[0mpos_s\u001b[0m\u001b[0;34m)\u001b[0m\u001b[0;34m:\u001b[0m\u001b[0;34m]\u001b[0m\u001b[0;34m\u001b[0m\u001b[0;34m\u001b[0m\u001b[0m\n\u001b[1;32m   1012\u001b[0m             \u001b[0mpdb\u001b[0m\u001b[0;34m.\u001b[0m\u001b[0mset_trace\u001b[0m\u001b[0;34m(\u001b[0m\u001b[0;34m)\u001b[0m\u001b[0;34m\u001b[0m\u001b[0;34m\u001b[0m\u001b[0m\n\u001b[0;32m-> 1013\u001b[0;31m             \u001b[0mG_L\u001b[0m\u001b[0;34m,\u001b[0m \u001b[0mG_NL\u001b[0m\u001b[0;34m=\u001b[0m\u001b[0mself\u001b[0m\u001b[0;34m.\u001b[0m\u001b[0massemble_G\u001b[0m\u001b[0;34m(\u001b[0m\u001b[0mu\u001b[0m\u001b[0;34m,\u001b[0m\u001b[0mq\u001b[0m\u001b[0;34m,\u001b[0m\u001b[0mm\u001b[0m\u001b[0;34m)\u001b[0m\u001b[0;34m\u001b[0m\u001b[0;34m\u001b[0m\u001b[0m\n\u001b[0m\u001b[1;32m   1014\u001b[0m \u001b[0;34m\u001b[0m\u001b[0m\n\u001b[1;32m   1015\u001b[0m             \u001b[0mcurrent\u001b[0m\u001b[0;34m=\u001b[0m\u001b[0;34m(\u001b[0m\u001b[0mG_L\u001b[0m\u001b[0;34m+\u001b[0m\u001b[0mnp\u001b[0m\u001b[0;34m.\u001b[0m\u001b[0mconcatenate\u001b[0m\u001b[0;34m(\u001b[0m\u001b[0;34m(\u001b[0m\u001b[0mG_NL\u001b[0m\u001b[0;34m,\u001b[0m\u001b[0mnp\u001b[0m\u001b[0;34m.\u001b[0m\u001b[0mzeros\u001b[0m\u001b[0;34m(\u001b[0m\u001b[0mlen\u001b[0m\u001b[0;34m(\u001b[0m\u001b[0mpos_s\u001b[0m\u001b[0;34m)\u001b[0m\u001b[0;34m)\u001b[0m\u001b[0;34m)\u001b[0m\u001b[0;34m)\u001b[0m\u001b[0;34m*\u001b[0m\u001b[0mm\u001b[0m\u001b[0;34m)\u001b[0m\u001b[0;34m/\u001b[0m\u001b[0mrelax\u001b[0m\u001b[0;34m\u001b[0m\u001b[0;34m\u001b[0m\u001b[0m\n",
      "\u001b[0;32m~/anaconda3/lib/python3.8/bdb.py\u001b[0m in \u001b[0;36mtrace_dispatch\u001b[0;34m(self, frame, event, arg)\u001b[0m\n\u001b[1;32m     86\u001b[0m             \u001b[0;32mreturn\u001b[0m \u001b[0;31m# None\u001b[0m\u001b[0;34m\u001b[0m\u001b[0;34m\u001b[0m\u001b[0m\n\u001b[1;32m     87\u001b[0m         \u001b[0;32mif\u001b[0m \u001b[0mevent\u001b[0m \u001b[0;34m==\u001b[0m \u001b[0;34m'line'\u001b[0m\u001b[0;34m:\u001b[0m\u001b[0;34m\u001b[0m\u001b[0;34m\u001b[0m\u001b[0m\n\u001b[0;32m---> 88\u001b[0;31m             \u001b[0;32mreturn\u001b[0m \u001b[0mself\u001b[0m\u001b[0;34m.\u001b[0m\u001b[0mdispatch_line\u001b[0m\u001b[0;34m(\u001b[0m\u001b[0mframe\u001b[0m\u001b[0;34m)\u001b[0m\u001b[0;34m\u001b[0m\u001b[0;34m\u001b[0m\u001b[0m\n\u001b[0m\u001b[1;32m     89\u001b[0m         \u001b[0;32mif\u001b[0m \u001b[0mevent\u001b[0m \u001b[0;34m==\u001b[0m \u001b[0;34m'call'\u001b[0m\u001b[0;34m:\u001b[0m\u001b[0;34m\u001b[0m\u001b[0;34m\u001b[0m\u001b[0m\n\u001b[1;32m     90\u001b[0m             \u001b[0;32mreturn\u001b[0m \u001b[0mself\u001b[0m\u001b[0;34m.\u001b[0m\u001b[0mdispatch_call\u001b[0m\u001b[0;34m(\u001b[0m\u001b[0mframe\u001b[0m\u001b[0;34m,\u001b[0m \u001b[0marg\u001b[0m\u001b[0;34m)\u001b[0m\u001b[0;34m\u001b[0m\u001b[0;34m\u001b[0m\u001b[0m\n",
      "\u001b[0;32m~/anaconda3/lib/python3.8/bdb.py\u001b[0m in \u001b[0;36mdispatch_line\u001b[0;34m(self, frame)\u001b[0m\n\u001b[1;32m    111\u001b[0m         \u001b[0;32mif\u001b[0m \u001b[0mself\u001b[0m\u001b[0;34m.\u001b[0m\u001b[0mstop_here\u001b[0m\u001b[0;34m(\u001b[0m\u001b[0mframe\u001b[0m\u001b[0;34m)\u001b[0m \u001b[0;32mor\u001b[0m \u001b[0mself\u001b[0m\u001b[0;34m.\u001b[0m\u001b[0mbreak_here\u001b[0m\u001b[0;34m(\u001b[0m\u001b[0mframe\u001b[0m\u001b[0;34m)\u001b[0m\u001b[0;34m:\u001b[0m\u001b[0;34m\u001b[0m\u001b[0;34m\u001b[0m\u001b[0m\n\u001b[1;32m    112\u001b[0m             \u001b[0mself\u001b[0m\u001b[0;34m.\u001b[0m\u001b[0muser_line\u001b[0m\u001b[0;34m(\u001b[0m\u001b[0mframe\u001b[0m\u001b[0;34m)\u001b[0m\u001b[0;34m\u001b[0m\u001b[0;34m\u001b[0m\u001b[0m\n\u001b[0;32m--> 113\u001b[0;31m             \u001b[0;32mif\u001b[0m \u001b[0mself\u001b[0m\u001b[0;34m.\u001b[0m\u001b[0mquitting\u001b[0m\u001b[0;34m:\u001b[0m \u001b[0;32mraise\u001b[0m \u001b[0mBdbQuit\u001b[0m\u001b[0;34m\u001b[0m\u001b[0;34m\u001b[0m\u001b[0m\n\u001b[0m\u001b[1;32m    114\u001b[0m         \u001b[0;32mreturn\u001b[0m \u001b[0mself\u001b[0m\u001b[0;34m.\u001b[0m\u001b[0mtrace_dispatch\u001b[0m\u001b[0;34m\u001b[0m\u001b[0;34m\u001b[0m\u001b[0m\n\u001b[1;32m    115\u001b[0m \u001b[0;34m\u001b[0m\u001b[0m\n",
      "\u001b[0;31mBdbQuit\u001b[0m: "
     ]
    },
    {
     "data": {
      "image/png": "[encoded data removed]",
      "text/plain": [
       "<Figure size 432x288 with 1 Axes>"
      ]
     },
     "metadata": {
      "needs_background": "light"
     },
     "output_type": "display_data"
    }
   ],
   "source": [
    "import numpy as np \n",
    "import matplotlib.pyplot as plt\n",
    "from module_2D_coupling_FV_nogrid import * \n",
    "import reconst_and_test_module as post\n",
    "import random \n",
    "import scipy as sp\n",
    "from scipy import sparse\n",
    "import scipy.sparse.linalg\n",
    "import matplotlib.pylab as pylab\n",
    "from mpl_toolkits.axes_grid1 import make_axes_locatable\n",
    "from tabulate import tabulate\n",
    "\n",
    "params = {'legend.fontsize': 'x-large',\n",
    "          'figure.figsize': (10,10),\n",
    "         'axes.labelsize': 'x-large',\n",
    "         'axes.titlesize':'x-large',\n",
    "         'xtick.labelsize':'x-large',\n",
    "         'ytick.labelsize':'x-large'}\n",
    "pylab.rcParams.update(params)\n",
    "plt.rcParams['font.size'] = '20'\n",
    "\n",
    "def get_plots_through_sources(phi_mat, SS_phi_mat,pos_s, rec_x,rec_y, orig_y):\n",
    "    c=0\n",
    "    vline=(orig_y[1:]+orig_y[:-1])/2\n",
    "    for i in pos_s:\n",
    "        pos=coord_to_pos(rec_x, rec_y, i)\n",
    "        pos_x=int(pos%len(rec_x))\n",
    "        plt.plot(rec_y, phi_mat[:,pos_x], label=\"coupling\")\n",
    "        plt.plot(rec_y, SS_phi_mat[:,pos_x], label=\"SS validation\")\n",
    "        plt.title(\"Concentration plot passing through source {}\".format(c))\n",
    "        plt.xlabel(\"position y ($\\mu m$)\")\n",
    "        plt.ylabel(\"$\\phi [kg m^{-1}]$\")\n",
    "        plt.axvline(x=i[1], color='r')\n",
    "        for xc in vline:\n",
    "            plt.axvline(x=xc, color='k', linestyle='--')\n",
    "    \n",
    "        plt.legend()\n",
    "        plt.show()\n",
    "        \n",
    "def get_plots_through_sources_peaceman(phi_mat,peaceman,pos_s, rec_x,rec_y, orig_y):\n",
    "    c=0\n",
    "    vline=(orig_y[1:]+orig_y[:-1])/2\n",
    "    for i in pos_s:\n",
    "        pos=coord_to_pos(rec_x, rec_y, i)\n",
    "        pos_x=int(pos%len(rec_x))\n",
    "        plt.plot(rec_y, phi_mat[:,pos_x], label=\"coupling\")\n",
    "        plt.scatter(rec_y, peaceman[:,pos_x], label=\"Peaceman\")\n",
    "        plt.plot()\n",
    "        plt.axvline(x=i[1], color='r')\n",
    "        for xc in vline:\n",
    "            plt.axvline(x=xc, color='k', linestyle='--')\n",
    "        plt.title(\"Concentration plot passing through source {}\".format(c))\n",
    "        plt.xlabel(\"position y ($\\mu m$)\")\n",
    "        plt.ylabel(\"$\\phi [kg m^{-1}]$\")\n",
    "        plt.legend()\n",
    "        plt.show()\n",
    "        c+=1\n",
    "\n",
    "\n",
    "#0-Set up the sources\n",
    "#1-Set up the domain\n",
    "D=1\n",
    "L=240\n",
    "cells=8\n",
    "h_ss=L/cells\n",
    "#ratio=int(np.max((h_ss/0.1,6)))\n",
    "ratio=14\n",
    "#Rv=np.exp(-2*np.pi)*h_ss\n",
    "Rv=0.01\n",
    "C0=1\n",
    "K_eff=1/(np.pi*Rv**2)"
   ]
  },
  {
   "cell_type": "code",
   "execution_count": null,
   "metadata": {},
   "outputs": [],
   "source": [
    "validation=True\n",
    "x_ss=np.linspace(h_ss/2, L-h_ss/2, int(np.around(L/h_ss)))\n",
    "y_ss=x_ss\n",
    "directness=int(np.around(L/(3*h_ss)))\n",
    "print(\"directness=\", directness)\n",
    "#pos_s=np.array([[x_ss[2], y_ss[2]],[x_ss[4], y_ss[4]]])\n",
    "#pos_s=np.array([[3.5,3.8],[3.4,3.4], [4.1, 3.6],[2,2]])-np.array([0.25,0.25])\n",
    "#pos_s/=2\n",
    "#pos_s=np.array([[1.25,1.25],[1.25,1.75], [1.75,1.75],[1.75,1.25]])\n",
    "#pos_s=np.array([[4.3,4.3],[4.3,5.5], [3.5,4.5],[3.5,3.5]])\n",
    "\n",
    "\n",
    "pos_s=np.array([[0.5,0.5]])*L\n",
    "S=len(pos_s)\n",
    "\n",
    "\n",
    "vline=(y_ss[1:]+x_ss[:-1])/2\n",
    "#Position image\n",
    "pos_s1=np.array([[0.45,0.02],[0.24,0.17],[0.6,0.23],[0.23,0.27],[0.55,0.33],[1.02,0.41],[0.96,0.43]])\n",
    "pos_s2=np.array([[0.27,0.6],[0.55,0.65],[0.59,0.66],[0.67,0.67],[0.13,0.75],[0.15,0.93],[0.2,0.87],[0.28,0.98],[0.8,0.85],[0.83,0.92]])\n",
    "pos_s=(np.concatenate((pos_s1, pos_s2))*0.8+0.1)*L\n",
    "S=len(pos_s)\n",
    "plt.scatter(pos_s[:,0], pos_s[:,1])\n",
    "plt.title(\"Position of the point sources\")\n",
    "for xc in vline:\n",
    "    plt.axvline(x=xc, color='k', linestyle='--')\n",
    "for xc in vline:\n",
    "    plt.axhline(y=xc, color='k', linestyle='--')\n",
    "plt.xlim([0,L])\n",
    "plt.ylim([0,L])\n",
    "plt.ylabel(\"y ($\\mu m$)\")\n",
    "plt.xlabel(\"x ($\\mu m$)\")"
   ]
  },
  {
   "cell_type": "code",
   "execution_count": null,
   "metadata": {},
   "outputs": [],
   "source": [
    "t=assemble_SS_2D_FD(pos_s, Rv, h_ss,L, K_eff, D, directness)\n",
    "t.pos_arrays()\n",
    "t.initialize_matrices()\n",
    "M=t.assembly_sol_split_problem(np.array([0,0,0,0]))\n",
    "t.B[-S:]=np.ones(S)*C0\n",
    "#t.B[-np.random.randint(0,S,int(S/2))]=0\n",
    "sol=np.linalg.solve(M, t.B)\n",
    "phi_FV=sol[:-S].reshape(len(t.x), len(t.y))\n",
    "phi_q=sol[-S:]\n",
    "\n",
    "# =============================================================================\n",
    "# m=real_NN_rec(t.x, t.y, sol[:-len(pos_s)], t.pos_s, t.s_blocks, sol[-len(pos_s):], ratio, t.h, 1, t.Rv)\n",
    "# m.add_singular(1)\n",
    "# fin_rec=m.add_singular(1)+m.rec\n",
    "# plt.imshow(fin_rec, origin='lower'); plt.colorbar()\n",
    "# plt.show()\n",
    "# print(fin_rec[:,-1])\n",
    "# ============================================================================="
   ]
  },
  {
   "cell_type": "code",
   "execution_count": null,
   "metadata": {},
   "outputs": [],
   "source": [
    "#Reconstruction microscopic field\n",
    "#pdb.set_trace()\n",
    "a=post.reconstruction_sans_flux(sol, t, L,ratio, directness)\n",
    "p=a.reconstruction()   \n",
    "a.reconstruction_boundaries(np.array([0,0,0,0]))\n",
    "a.rec_corners()\n",
    "plt.imshow(a.rec_final, origin='lower')\n",
    "plt.title(\"bilinear reconstruction \\n coupling model\")\n",
    "plt.colorbar(); plt.show()\n",
    "\n"
   ]
  },
  {
   "cell_type": "code",
   "execution_count": null,
   "metadata": {},
   "outputs": [],
   "source": [
    "#Validation Solution Splitting\n",
    "SS=full_ss(pos_s, Rv, h_ss/ratio, K_eff, D, L)\n",
    "v_SS=SS.solve_problem(t.B[-S:])\n",
    "phi_SS=SS.reconstruct(np.ndarray.flatten(v_SS), SS.phi_q)\n"
   ]
  },
  {
   "cell_type": "code",
   "execution_count": null,
   "metadata": {},
   "outputs": [],
   "source": [
    "plt.imshow(phi_SS, origin='lower')\n",
    "plt.title(\"validation reconstruction\")\n",
    "plt.colorbar()\n",
    "plt.show()\n",
    "\n",
    "\n",
    "\n",
    "plt.scatter(np.arange(len(SS.phi_q)),np.abs(SS.phi_q-phi_q), label=\"absolute error\")\n",
    "plt.plot(SS.phi_q, label=\"absolute value flux\")\n",
    "plt.title(\"absolute error of the flux estimation for ratio={}\".format(ratio))\n",
    "plt.ylabel(\"absolute value [$kg m^{-1} s^{-1}$]\")\n",
    "plt.xlabel(\"source ID\")\n",
    "plt.legend()\n",
    "plt.show()\n",
    "\n",
    "\n",
    "plt.scatter(np.arange(len(SS.phi_q)),np.abs(SS.phi_q-phi_q)/np.abs(SS.phi_q))\n",
    "plt.title(\"relative error\")\n",
    "plt.show()\n",
    "\n",
    "\n",
    "plt.imshow(a.rec_final-phi_SS, origin='lower')\n",
    "plt.title(\"absolute error of the reconstructed $\\phi$\")\n",
    "plt.colorbar(); plt.show()"
   ]
  },
  {
   "cell_type": "code",
   "execution_count": null,
   "metadata": {},
   "outputs": [],
   "source": [
    "fig, axs = plt.subplots(2,2, figsize=(15,15))\n",
    "fig.tight_layout(pad=4.0)\n",
    "axs[1,0].scatter(np.arange(len(SS.phi_q)),np.abs(SS.phi_q-phi_q), label=\"absolute error\")\n",
    "axs[1,0].plot(SS.phi_q, label=\"absolute value flux\")\n",
    "axs[1,0].set_title(\"absolute error of the flux \\n estimation for ratio={}\".format(ratio))\n",
    "axs[1,0].set_ylabel(\"absolute value [$kg m^{-1} s^{-1}$]\")\n",
    "axs[1,0].set_xlabel(\"source ID\")\n",
    "axs[1,0].legend()\n",
    "\n",
    "d=axs[1,1].scatter(np.arange(len(SS.phi_q)),np.abs(SS.phi_q-phi_q)/np.abs(SS.phi_q))\n",
    "axs[1,1].set_title(\"relative error\")\n",
    "axs[1,1].set_ylabel(\"relative err\")\n",
    "axs[1,1].set_xlabel(\"source ID\")\n",
    "\n",
    "b=axs[0,1].imshow(phi_SS, extent=[0,L,0,L],origin='lower')\n",
    "axs[0,1].set_xlabel(\"$\\mu$m\")\n",
    "axs[0,1].set_ylabel(\"$\\mu$m\")\n",
    "axs[0,1].set_title(\"validation reconstruction\")\n",
    "divider = make_axes_locatable(axs[0,1])\n",
    "cax = divider.append_axes('right', size='10%', pad=0.05)\n",
    "fig.colorbar(b, cax=cax,orientation='vertical')\n",
    "\n",
    "c=axs[0,0].imshow(a.rec_final-phi_SS, extent=[0,L,0,L], origin='lower')\n",
    "axs[0,0].set_xlabel(\"$\\mu$m\")\n",
    "axs[0,0].set_ylabel(\"$\\mu$m\")\n",
    "axs[0,0].set_title(\"absolute error of the reconstructed $\\phi$\")\n",
    "divider = make_axes_locatable(axs[0,0])\n",
    "cax = divider.append_axes('right', size='10%', pad=0.05)\n",
    "fig.colorbar(c, cax=cax,  ticks=np.around(np.linspace(0, np.max(a.rec_final-phi_SS), 16), decimals=2),orientation='vertical')\n",
    "\n",
    "\n"
   ]
  },
  {
   "cell_type": "code",
   "execution_count": null,
   "metadata": {},
   "outputs": [],
   "source": [
    "print(\"L2 norm SS q=\",get_L2(a.phi_q, SS.phi_q))\n",
    "print(\"relative error with SS q= \", get_MRE(a.phi_q, SS.phi_q))\n",
    "print(\"relative L2 norm with SS concentration field=\",get_L2(np.ndarray.flatten(phi_SS), np.ndarray.flatten(a.rec_final)))\n",
    "\n",
    "get_plots_through_sources(a.rec_final, phi_SS, pos_s, SS.x, SS.y)\n",
    "\n"
   ]
  },
  {
   "cell_type": "code",
   "execution_count": null,
   "metadata": {},
   "outputs": [],
   "source": [
    "#comparison with no coupling\n",
    "noc_sol, noc_lenx, noc_leny,noc_q, noc_B, noc_A, noc_s_blocks,noc_x,noc_y=get_validation(ratio, t, pos_s, np.ones(S), D, K_eff, Rv, L)\n",
    "\n",
    "#comparison with Peaceman\n",
    "p_sol, p_lenx, p_leny,p_q, p_B, p_A, p_s_blocks,p_x,p_y=get_validation(ratio, t, pos_s, np.ones(S), D, K_eff, Rv, L, \"Peaceman\")\n",
    "\n",
    "\n"
   ]
  },
  {
   "cell_type": "code",
   "execution_count": null,
   "metadata": {},
   "outputs": [],
   "source": [
    "errors=[[\"coupling\",\"SS\" , ratio , get_L2(SS.phi_q, phi_q) , get_L2(phi_SS, a.rec_final) , get_MRE(SS.phi_q, phi_q) , get_MRE(phi_SS, a.rec_final)],\n",
    "        [\"coupling\",\"Peaceman\", ratio,get_L2(p_q, phi_q), get_L2(p_sol, np.ndarray.flatten(a.rec_final)), get_MRE(p_q, phi_q), get_MRE(p_sol, np.ndarray.flatten(a.rec_final))],\n",
    "        [\"FV\",\"SS\",1,get_L2(SS.phi_q, noc_q), get_L2(np.ndarray.flatten(phi_SS), noc_sol), get_MRE(SS.phi_q, phi_q), get_MRE(np.ndarray.flatten(phi_SS), noc_sol)],\n",
    "        [\"FV\",\"Peaceman\",1,get_L2(p_q, noc_q), get_L2(p_sol, noc_sol), get_MRE(p_q, phi_q), get_MRE(p_sol, noc_sol)],\n",
    "        [\"Peaceman\",\"SS\", 1,get_L2(SS.phi_q, p_q), get_L2(np.ndarray.flatten(phi_SS), p_sol), get_MRE(SS.phi_q, p_q), get_MRE(np.ndarray.flatten(phi_SS), p_sol)]]\n",
    "\n"
   ]
  },
  {
   "cell_type": "code",
   "execution_count": null,
   "metadata": {},
   "outputs": [],
   "source": [
    "def get_errors(phi_SS, a_rec_final, noc_sol, SS_phi_q, p_q, noc_q):\n",
    "    errors=[[\"coupling\",\"SS\" , ratio , get_L2(SS_phi_q, phi_q) , get_L2(phi_SS, a_rec_final) , get_MRE(SS_phi_q, phi_q) , get_MRE(phi_SS, a_rec_final)],\n",
    "        [\"coupling\",\"Peaceman\", ratio,get_L2(p_q, phi_q), get_L2(p_sol, np.ndarray.flatten(a_rec_final)), get_MRE(p_q, phi_q), get_MRE(p_sol, np.ndarray.flatten(a_rec_final))],\n",
    "        [\"FV\",\"SS\",1,get_L2(SS_phi_q, noc_q), get_L2(np.ndarray.flatten(phi_SS), noc_sol), get_MRE(SS_phi_q, phi_q), get_MRE(np.ndarray.flatten(phi_SS), noc_sol)],\n",
    "        [\"FV\",\"Peaceman\",1,get_L2(p_q, noc_q), get_L2(p_sol, noc_sol), get_MRE(p_q, phi_q), get_MRE(p_sol, noc_sol)],\n",
    "        [\"Peaceman\",\"SS\", 1,get_L2(SS_phi_q, p_q), get_L2(np.ndarray.flatten(phi_SS), p_sol), get_MRE(SS_phi_q, p_q), get_MRE(np.ndarray.flatten(phi_SS), p_sol)]]\n",
    "    return(errors)\n"
   ]
  },
  {
   "cell_type": "code",
   "execution_count": null,
   "metadata": {},
   "outputs": [],
   "source": [
    "errors=post.get_errors(phi_SS, a.rec_final, noc_sol, p_sol,SS.phi_q, p_q, noc_q,ratio, phi_q)"
   ]
  },
  {
   "cell_type": "code",
   "execution_count": null,
   "metadata": {},
   "outputs": [],
   "source": [
    "np.sum(np.abs(phi_SS - a.rec_final))/len(phi_SS)"
   ]
  },
  {
   "cell_type": "code",
   "execution_count": null,
   "metadata": {},
   "outputs": [],
   "source": [
    "print(tabulate(errors, headers=[\"Evaluated model\",\"Validation\", \"ratio\",\"L^2(q)\", \"L^2(phi)\", \"MRE(q)\", \"MRE(phi)\"]))\n",
    "\n"
   ]
  },
  {
   "cell_type": "code",
   "execution_count": null,
   "metadata": {},
   "outputs": [],
   "source": [
    "from mpl_toolkits.axes_grid1 import make_axes_locatable\n",
    "\n",
    "error_Peac=np.abs((SS.phi_q-p_q)/SS.phi_q)\n",
    "error_FV=np.abs((SS.phi_q-noc_q)/SS.phi_q)\n",
    "error_coup=np.abs((SS.phi_q-phi_q)/SS.phi_q)\n",
    "fig, axs = plt.subplots(1,3, figsize=(18*2,6*2))\n",
    "fig.tight_layout(pad=8.0)\n",
    "axs[2].scatter(error_FV, error_coup)\n",
    "axs[2].plot(np.linspace(0, np.max(error_coup)),np.linspace(0, np.max(error_coup)), 'k--')\n",
    "axs[2].set_ylabel(\"coarse mesh \\n with coupling (%)\")\n",
    "axs[2].set_xlabel(\"fine mesh \\n without coupling (%)\")\n",
    "\n",
    "\n",
    "b=axs[1].imshow(a.rec_final, origin='lower', extent=[0,L,0,L])\n",
    "axs[1].set_xlabel(\"$\\mu$m\")\n",
    "axs[1].set_ylabel(\"$\\mu$m\")\n",
    "#plt.title(\"reconstruction coupling\")\n",
    "divider = make_axes_locatable(axs[1])\n",
    "cax = divider.append_axes('right', size='10%', pad=0.05)\n",
    "fig.colorbar(b, cax=cax, orientation='vertical')\n",
    "\n",
    "NN=post.coarse_NN_rec(t.x, t.y, phi_FV, pos_s, t.s_blocks, phi_q, ratio, h_ss, directness, Rv)\n",
    "\n",
    "c=axs[0].imshow(NN, origin='lower', extent=[0,L,0,L])\n",
    "axs[0].set_xlabel(\"$\\mu$m\")\n",
    "axs[0].set_ylabel(\"$\\mu$m\")\n",
    "#plt.title(\"average cell values\")\n",
    "divider = make_axes_locatable(axs[0])\n",
    "cax = divider.append_axes('right', size='10%', pad=0.05)\n",
    "fig.colorbar(c, cax=cax, orientation='vertical')"
   ]
  },
  {
   "cell_type": "code",
   "execution_count": null,
   "metadata": {},
   "outputs": [],
   "source": []
  },
  {
   "cell_type": "code",
   "execution_count": null,
   "metadata": {},
   "outputs": [],
   "source": []
  },
  {
   "cell_type": "code",
   "execution_count": null,
   "metadata": {},
   "outputs": [],
   "source": []
  },
  {
   "cell_type": "code",
   "execution_count": null,
   "metadata": {},
   "outputs": [],
   "source": []
  }
 ],
 "metadata": {
  "kernelspec": {
   "display_name": "Python 3",
   "language": "python",
   "name": "python3"
  },
  "language_info": {
   "codemirror_mode": {
    "name": "ipython",
    "version": 3
   },
   "file_extension": ".py",
   "mimetype": "text/x-python",
   "name": "python",
   "nbconvert_exporter": "python",
   "pygments_lexer": "ipython3",
   "version": "3.8.5"
  }
 },
 "nbformat": 4,
 "nbformat_minor": 4
}
