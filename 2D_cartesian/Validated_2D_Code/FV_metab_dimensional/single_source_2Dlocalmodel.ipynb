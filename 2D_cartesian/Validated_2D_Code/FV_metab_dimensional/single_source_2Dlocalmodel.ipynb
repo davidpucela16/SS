{
 "cells": [
  {
   "cell_type": "markdown",
   "metadata": {},
   "source": [
    "As the name of the file indicates, here the tests for the local operator splitting technique for a single source and a coarse mesh is done. Several off-centering tests are included, and the validation is made with two \"point-source\" schemes that are the Peaceman coupling model [D.W.Peaceman, 1978], and the full Solution Splitting model [Gjerde et al., 2019 ENSAIM]"
   ]
  },
  {
   "cell_type": "code",
   "execution_count": 1,
   "metadata": {},
   "outputs": [],
   "source": [
    "import numpy as np \n",
    "import matplotlib.pyplot as plt\n",
    "from module_2D_coupling_FV_nogrid import * \n",
    "import reconst_and_test_module as post\n",
    "import random \n",
    "import scipy as sp\n",
    "from scipy import sparse\n",
    "import scipy.sparse.linalg\n",
    "import matplotlib.pylab as pylab\n",
    "from mpl_toolkits.axes_grid1 import make_axes_locatable\n",
    "#from tabulate import tabulate\n",
    "\n",
    "params = {'legend.fontsize': 'x-large',\n",
    "          'figure.figsize': (10,10),\n",
    "         'axes.labelsize': 'x-large',\n",
    "         'axes.titlesize':'x-large',\n",
    "         'xtick.labelsize':'x-large',\n",
    "         'ytick.labelsize':'x-large'}\n",
    "pylab.rcParams.update(params)\n",
    "plt.rcParams['font.size'] = '20'\n",
    "\n",
    "def get_plots_through_sources(phi_mat, SS_phi_mat,pos_s, rec_x,rec_y, orig_y):\n",
    "    c=0\n",
    "    vline=(orig_y[1:]+orig_y[:-1])/2\n",
    "    for i in pos_s:\n",
    "        pos=coord_to_pos(rec_x, rec_y, i)\n",
    "        pos_x=int(pos%len(rec_x))\n",
    "        plt.plot(rec_y, phi_mat[:,pos_x], label=\"coupling\")\n",
    "        plt.plot(rec_y, SS_phi_mat[:,pos_x], label=\"SS validation\")\n",
    "        plt.title(\"Concentration plot passing through source {}\".format(c))\n",
    "        plt.xlabel(\"position y ($\\mu m$)\")\n",
    "        plt.ylabel(\"$\\phi [kg m^{-1}]$\")\n",
    "        plt.axvline(x=i[1], color='r')\n",
    "        for xc in vline:\n",
    "            plt.axvline(x=xc, color='k', linestyle='--')\n",
    "    \n",
    "        plt.legend()\n",
    "        plt.show()\n",
    "        \n",
    "def get_plots_through_sources_peaceman(phi_mat,peaceman,pos_s, rec_x,rec_y, orig_y):\n",
    "    c=0\n",
    "    vline=(orig_y[1:]+orig_y[:-1])/2\n",
    "    for i in pos_s:\n",
    "        pos=coord_to_pos(rec_x, rec_y, i)\n",
    "        pos_x=int(pos%len(rec_x))\n",
    "        plt.plot(rec_y, phi_mat[:,pos_x], label=\"coupling\")\n",
    "        plt.scatter(rec_y, peaceman[:,pos_x], label=\"Peaceman\")\n",
    "        plt.plot()\n",
    "        plt.axvline(x=i[1], color='r')\n",
    "        for xc in vline:\n",
    "            plt.axvline(x=xc, color='k', linestyle='--')\n",
    "        plt.title(\"Concentration plot passing through source {}\".format(c))\n",
    "        plt.xlabel(\"position y ($\\mu m$)\")\n",
    "        plt.ylabel(\"$\\phi [kg m^{-1}]$\")\n",
    "        plt.legend()\n",
    "        plt.show()\n",
    "        c+=1\n",
    "\n",
    "#0-Set up the sources\n",
    "#1-Set up the domain\n",
    "D=1\n",
    "L=10\n",
    "cells=5\n",
    "h_ss=L/cells\n",
    "#ratio=int(np.max((h_ss/0.1,6)))\n",
    "#Rv=np.exp(-2*np.pi)*h_ss\n",
    "\n",
    "C0=1\n",
    "K_eff=1/(np.pi*Rv**2)"
   ]
  },
  {
   "cell_type": "code",
   "execution_count": 2,
   "metadata": {},
   "outputs": [],
   "source": [
    "ratio=4"
   ]
  },
  {
   "cell_type": "code",
   "execution_count": 5,
   "metadata": {},
   "outputs": [
    {
     "name": "stdout",
     "output_type": "stream",
     "text": [
      "directness= 1\n"
     ]
    },
    {
     "data": {
      "text/plain": [
       "Text(0.5, 0, 'x ($\\\\mu m$)')"
      ]
     },
     "execution_count": 5,
     "metadata": {},
     "output_type": "execute_result"
    }
   ],
   "source": [
    "validation=True\n",
    "x_ss=np.linspace(h_ss/2, L-h_ss/2, int(np.around(L/h_ss)))\n",
    "y_ss=x_ss\n",
    "directness=1\n",
    "print(\"directness=\", directness)\n",
    "#pos_s=np.array([[x_ss[2], y_ss[2]],[x_ss[4], y_ss[4]]])\n",
    "#pos_s=np.array([[3.5,3.8],[3.4,3.4], [4.1, 3.6],[2,2]])-np.array([0.25,0.25])\n",
    "#pos_s/=2\n",
    "#pos_s=np.array([[1.25,1.25],[1.25,1.75], [1.75,1.75],[1.75,1.25]])\n",
    "#pos_s=np.array([[4.3,4.3],[4.3,5.5], [3.5,4.5],[3.5,3.5]])\n",
    "\n",
    "Rv=L/800+np.zeros(S)\n",
    "pos_s=np.array([[0.5,0.5]])*L\n",
    "S=len(pos_s)\n",
    "vline=(y_ss[1:]+x_ss[:-1])/2\n",
    "plt.scatter(pos_s[:,0], pos_s[:,1])\n",
    "plt.title(\"Position of the point sources\")\n",
    "for xc in vline:\n",
    "    plt.axvline(x=xc, color='k', linestyle='--')\n",
    "for xc in vline:\n",
    "    plt.axhline(y=xc, color='k', linestyle='--')\n",
    "plt.xlim([0,L])\n",
    "plt.ylim([0,L])\n",
    "plt.ylabel(\"y ($\\mu m$)\")\n",
    "plt.xlabel(\"x ($\\mu m$)\")"
   ]
  },
  {
   "cell_type": "code",
   "execution_count": 6,
   "metadata": {},
   "outputs": [
    {
     "name": "stdout",
     "output_type": "stream",
     "text": [
      "new version flux estimation\n"
     ]
    }
   ],
   "source": [
    "t=assemble_SS_2D_FD(pos_s, Rv, h_ss,L, K_eff, D, directness)\n",
    "t.pos_arrays()\n",
    "t.initialize_matrices()\n",
    "M=t.assembly_sol_split_problem(np.array([0,0,0,0]))\n",
    "t.H0[-S:]=np.ones(S)\n",
    "#t.B[-np.random.randint(0,S,int(S/2))]=0\n",
    "sol=np.linalg.solve(M, t.H0)\n",
    "phi_FV=sol[:-S].reshape(len(t.x), len(t.y))\n",
    "phi_q=sol[-S:]\n",
    "\n",
    "# =============================================================================\n",
    "# m=real_NN_rec(t.x, t.y, sol[:-len(pos_s)], t.pos_s, t.s_blocks, sol[-len(pos_s):], ratio, t.h, 1, t.Rv)\n",
    "# m.add_singular(1)\n",
    "# fin_rec=m.add_singular(1)+m.rec\n",
    "# plt.imshow(fin_rec, origin='lower'); plt.colorbar()\n",
    "# plt.show()\n",
    "# print(fin_rec[:,-1])\n",
    "# ============================================================================="
   ]
  },
  {
   "cell_type": "code",
   "execution_count": 7,
   "metadata": {},
   "outputs": [
    {
     "name": "stdout",
     "output_type": "stream",
     "text": [
      "[0.50778395]\n"
     ]
    }
   ],
   "source": [
    "#Reconstruction microscopic field\n",
    "#pdb.set_trace()\n",
    "a=post.reconstruction_sans_flux(sol, t, L,ratio, directness)\n",
    "p=a.reconstruction()   \n",
    "a.reconstruction_boundaries(np.array([0,0,0,0]))\n",
    "a.rec_corners()\n",
    "plt.imshow(a.rec_final, origin='lower')\n",
    "plt.title(\"bilinear reconstruction \\n coupling model\")\n",
    "plt.colorbar(); plt.show()\n",
    "\n",
    "print(phi_q)"
   ]
  },
  {
   "cell_type": "code",
   "execution_count": 8,
   "metadata": {},
   "outputs": [
    {
     "name": "stdout",
     "output_type": "stream",
     "text": [
      "[0.51057476]\n"
     ]
    }
   ],
   "source": [
    "#Validation Solution Splitting\n",
    "SS=full_ss(pos_s, Rv, h_ss/ratio, K_eff, D, L)\n",
    "v_SS=SS.solve_problem(-t.H0[-S:])\n",
    "phi_SS=SS.reconstruct(np.ndarray.flatten(v_SS), SS.phi_q)\n"
   ]
  },
  {
   "cell_type": "markdown",
   "metadata": {},
   "source": [
    "COMPARISON WITH SOLUTION SPLITTING REFINED"
   ]
  },
  {
   "cell_type": "code",
   "execution_count": 9,
   "metadata": {},
   "outputs": [],
   "source": [
    "plt.imshow(phi_SS, origin='lower')\n",
    "plt.title(\"validation reconstruction\")\n",
    "plt.colorbar()\n",
    "plt.show()\n",
    "\n",
    "\n",
    "\n",
    "plt.scatter(np.arange(len(SS.phi_q)),np.abs(SS.phi_q-phi_q), label=\"absolute error\")\n",
    "plt.plot(SS.phi_q, label=\"absolute value flux\")\n",
    "plt.title(\"absolute error of the flux estimation for ratio={}\".format(ratio))\n",
    "plt.ylabel(\"absolute value [$kg m^{-1} s^{-1}$]\")\n",
    "plt.xlabel(\"source ID\")\n",
    "plt.legend()\n",
    "plt.show()\n",
    "\n",
    "\n",
    "plt.scatter(np.arange(len(SS.phi_q)),np.abs(SS.phi_q-phi_q)/np.abs(SS.phi_q))\n",
    "plt.title(\"relative error\")\n",
    "plt.show()\n",
    "\n",
    "\n",
    "plt.imshow(a.rec_final-phi_SS, origin='lower')\n",
    "plt.title(\"absolute error of the reconstructed $\\phi$\")\n",
    "plt.colorbar(); plt.show()"
   ]
  },
  {
   "cell_type": "code",
   "execution_count": 11,
   "metadata": {},
   "outputs": [],
   "source": [
    "fig, axs = plt.subplots(2,2, figsize=(15,15))\n",
    "fig.tight_layout(pad=4.0)\n",
    "axs[1,0].scatter(np.arange(len(SS.phi_q)),np.abs(SS.phi_q-phi_q), label=\"absolute error\")\n",
    "axs[1,0].plot(SS.phi_q, label=\"absolute value flux\")\n",
    "axs[1,0].set_title(\"absolute error of the flux \\n estimation for ratio={}\".format(ratio))\n",
    "axs[1,0].set_ylabel(\"absolute value [$kg m^{-1} s^{-1}$]\")\n",
    "axs[1,0].set_xlabel(\"source ID\")\n",
    "axs[1,0].legend()\n",
    "\n",
    "d=axs[1,1].scatter(np.arange(len(SS.phi_q)),np.abs(SS.phi_q-phi_q)/np.abs(SS.phi_q))\n",
    "axs[1,1].set_title(\"relative error\")\n",
    "axs[1,1].set_ylabel(\"relative err\")\n",
    "axs[1,1].set_xlabel(\"source ID\")\n",
    "\n",
    "b=axs[0,1].imshow(phi_SS, extent=[0,L,0,L],origin='lower')\n",
    "axs[0,1].set_xlabel(\"$\\mu$m\")\n",
    "axs[0,1].set_ylabel(\"$\\mu$m\")\n",
    "axs[0,1].set_title(\"validation reconstruction\")\n",
    "divider = make_axes_locatable(axs[0,1])\n",
    "cax = divider.append_axes('right', size='10%', pad=0.05)\n",
    "fig.colorbar(b, cax=cax,orientation='vertical')\n",
    "\n",
    "c=axs[0,0].imshow((a.rec_final-phi_SS)*1e3, extent=[0,L,0,L], origin='lower')\n",
    "axs[0,0].set_xlabel(\"$\\mu$m\")\n",
    "axs[0,0].set_ylabel(\"$\\mu$m\")\n",
    "axs[0,0].set_title(\"absolute error of the reconstructed $\\phi$ \\n multiplied by $10^3$\")\n",
    "divider = make_axes_locatable(axs[0,0])\n",
    "cax = divider.append_axes('right', size='10%', pad=0.05)\n",
    "fig.colorbar(c, cax=cax,orientation='vertical')\n",
    "\n",
    "plt.show()\n"
   ]
  },
  {
   "cell_type": "code",
   "execution_count": null,
   "metadata": {
    "scrolled": false
   },
   "outputs": [],
   "source": [
    "print(\"L2 norm SS q=\",get_L2(a.phi_q, SS.phi_q))\n",
    "print(\"relative error with SS q= \", get_MRE(a.phi_q, SS.phi_q))\n",
    "print(\"relative L2 norm with SS concentration field=\",get_L2(np.ndarray.flatten(phi_SS), np.ndarray.flatten(a.rec_final)))\n",
    "\n",
    "get_plots_through_sources(a.rec_final, phi_SS, pos_s, SS.x, SS.y,t.y)\n",
    "\n",
    "\n"
   ]
  },
  {
   "cell_type": "code",
   "execution_count": null,
   "metadata": {},
   "outputs": [],
   "source": [
    "h=L/(5*16)\n",
    "C0/(1+C0*np.log(0.2*h/Rv)/(2*np.pi))"
   ]
  },
  {
   "cell_type": "code",
   "execution_count": null,
   "metadata": {},
   "outputs": [],
   "source": [
    "FV_validation(L, ratio*cells, pos_s, np.ones(S), D, K_eff, Rv)"
   ]
  },
  {
   "cell_type": "code",
   "execution_count": null,
   "metadata": {},
   "outputs": [],
   "source": [
    "#comparison with Peaceman\n",
    "Peaceman=FV_validation(L, ratio*cells, pos_s, np.ones(S), D, K_eff, Rv)\n",
    "Peaceman.set_up_system()\n",
    "Peaceman.solve_linear_systel\n",
    "\n",
    "p_sol, p_lenx, p_leny,p_q, p_B, p_A, p_s_blocks,p_x,p_y\n",
    "errors=[[\"coupling\",\"SS\" , ratio , get_L2(SS.phi_q, phi_q) , get_L2(phi_SS, a.rec_final) , get_MRE(SS.phi_q, phi_q) , get_MRE(phi_SS, a.rec_final)],\n",
    "        [\"coupling\",\"Peaceman\", ratio,get_L2(p_q, phi_q), get_L2(p_sol, np.ndarray.flatten(a.rec_final)), get_MRE(p_q, phi_q), get_MRE(p_sol, np.ndarray.flatten(a.rec_final))],\n",
    "        [\"FV\",\"SS\",1,get_L2(SS.phi_q, noc_q), get_L2(np.ndarray.flatten(phi_SS), noc_sol), get_MRE(SS.phi_q, noc_q), get_MRE(np.ndarray.flatten(phi_SS), noc_sol)],\n",
    "        [\"FV\",\"Peaceman\",1,get_L2(p_q, noc_q), get_L2(p_sol, noc_sol), get_MRE(p_q, noc_q), get_MRE(p_sol, noc_sol)],\n",
    "        [\"Peaceman\",\"SS\", 1,get_L2(SS.phi_q, p_q), get_L2(np.ndarray.flatten(phi_SS), p_sol), get_MRE(SS.phi_q, p_q), get_MRE(np.ndarray.flatten(phi_SS), p_sol)]]\n",
    "    "
   ]
  },
  {
   "cell_type": "code",
   "execution_count": null,
   "metadata": {},
   "outputs": [],
   "source": [
    "get_plots_through_sources_peaceman(a.rec_final,p_sol.reshape(len(p_y), len(p_x)),pos_s, p_x,p_y,t.y)"
   ]
  },
  {
   "cell_type": "code",
   "execution_count": null,
   "metadata": {},
   "outputs": [],
   "source": [
    "pos=coord_to_pos(SS.x, SS.y, pos_s[0])\n",
    "pos_x=int(pos%len(SS.x))\n",
    "\n",
    "p_sol_mat=p_sol.reshape(len(p_y), len(p_x))\n",
    "\n",
    "\n",
    "fig, axs = plt.subplots(2,2, figsize=(15,15))\n",
    "fig.tight_layout(pad=4.0)\n",
    "axs[1,0].plot(SS.y, a.rec_final[:,pos_x], label=\"coupling\")\n",
    "axs[1,0].scatter(SS.y, p_sol_mat[:,pos_x], label=\"Peaceman\", c='r')\n",
    "axs[1,0].set_title(\"absolute error of the flux \\n estimation for ratio={}\".format(ratio))\n",
    "\n",
    "axs[1,0].set_ylabel(\"absolute value [$kg m^{-1} s^{-1}$]\")\n",
    "axs[1,0].set_xlabel(\"source ID\")\n",
    "axs[1,0].legend()\n",
    "\n",
    "d=axs[1,1].scatter(np.arange(len(p_q)),(1e3)*np.abs(p_q-phi_q)/np.abs(p_q))\n",
    "axs[1,1].set_title(\"relative error * $10^{3}$\")\n",
    "axs[1,1].set_ylabel(\"relative err\")\n",
    "axs[1,1].set_xlabel(\"source ID\")\n",
    "\n",
    "b=axs[0,1].imshow(p_sol_mat, extent=[0,L,0,L],origin='lower')\n",
    "axs[0,1].set_xlabel(\"$\\mu$m\")\n",
    "axs[0,1].set_ylabel(\"$\\mu$m\")\n",
    "axs[0,1].set_title(\"validation reconstruction\")\n",
    "divider = make_axes_locatable(axs[0,1])\n",
    "cax = divider.append_axes('right', size='10%', pad=0.05)\n",
    "fig.colorbar(b, cax=cax,orientation='vertical')\n",
    "\n",
    "c=axs[0,0].imshow((a.rec_final-p_sol_mat)*1e3, extent=[0,L,0,L], origin='lower')\n",
    "axs[0,0].set_xlabel(\"$\\mu$m\")\n",
    "axs[0,0].set_ylabel(\"$\\mu$m\")\n",
    "axs[0,0].set_title(\"absolute error of the reconstructed $\\phi$ \\n multiplied by $10^3$\")\n",
    "divider = make_axes_locatable(axs[0,0])\n",
    "cax = divider.append_axes('right', size='10%', pad=0.05)\n",
    "fig.colorbar(c, cax=cax,orientation='vertical')"
   ]
  },
  {
   "cell_type": "code",
   "execution_count": null,
   "metadata": {},
   "outputs": [],
   "source": [
    "\n",
    "print(tabulate(errors, headers=[\"Evaluated model\",\"Validation\", \"ratio\",\"L^2(q)\", \"L^2(phi)\", \"MRE(q)\", \"MRE(phi)\"]))\n",
    "\n"
   ]
  },
  {
   "cell_type": "code",
   "execution_count": null,
   "metadata": {},
   "outputs": [],
   "source": [
    "off_center=np.linspace(0,h_ss/2, 5)\n",
    "mat_errors_peac=np.zeros([len(off_center), len(off_center)])\n",
    "mat_errors_SS=np.zeros([len(off_center), len(off_center)])\n",
    "\n",
    "for i in off_center:\n",
    "    for j in off_center:\n",
    "        pos_s=np.array([[0.5,0.5]])*L+np.array([i,j])\n",
    "        S=len(pos_s)\n",
    "        t=assemble_SS_2D_FD(pos_s, Rv, h_ss,L, K_eff, D, directness)\n",
    "        t.pos_arrays()\n",
    "        t.initialize_matrices()\n",
    "        M=t.assembly_sol_split_problem(np.array([0,0,0,0]))\n",
    "        t.B[-S:]=np.ones(S)*C0\n",
    "        sol=np.linalg.solve(M, t.B)\n",
    "        phi_FV=sol[:-S].reshape(len(t.x), len(t.y))\n",
    "        phi_q=sol[-S:]\n",
    "        SS=full_ss(pos_s, Rv, h_ss/ratio, K_eff, D, L)\n",
    "        v_SS=SS.solve_problem(t.B[-S:])\n",
    "        #comparison with no coupling\n",
    "        noc_sol, noc_lenx, noc_leny,noc_q, noc_B, noc_A, noc_s_blocks,noc_x,noc_y=get_validation(ratio, t, pos_s, np.ones(S), D, K_eff, Rv, L)\n",
    "\n",
    "        #comparison with Peaceman\n",
    "        p_sol, p_lenx, p_leny,p_q, p_B, p_A, p_s_blocks,p_x,p_y=get_validation(ratio, t, pos_s, np.ones(S), D, K_eff, Rv, L)\n",
    "        \n",
    "        errors=[[\"coupling\",\"SS\" , ratio , get_L2(SS.phi_q, phi_q) , get_L2(phi_SS, a.rec_final) , get_MRE(SS.phi_q, phi_q) , get_MRE(phi_SS, a.rec_final)],\n",
    "        [\"coupling\",\"Peaceman\", ratio,get_L2(p_q, phi_q), get_L2(p_sol, np.ndarray.flatten(a.rec_final)), get_MRE(p_q, phi_q), get_MRE(p_sol, np.ndarray.flatten(a.rec_final))],\n",
    "        [\"FV\",\"SS\",1,get_L2(SS.phi_q, noc_q), get_L2(np.ndarray.flatten(phi_SS), noc_sol), get_MRE(SS.phi_q, noc_q), get_MRE(np.ndarray.flatten(phi_SS), noc_sol)],\n",
    "        [\"FV\",\"Peaceman\",1,get_L2(p_q, noc_q), get_L2(p_sol, noc_sol), get_MRE(p_q, noc_q), get_MRE(p_sol, noc_sol)],\n",
    "        [\"Peaceman\",\"SS\", 1,get_L2(SS.phi_q, p_q), get_L2(np.ndarray.flatten(phi_SS), p_sol), get_MRE(SS.phi_q, p_q), get_MRE(np.ndarray.flatten(phi_SS), p_sol)]]\n",
    "    \n",
    "        print(\"\\n\")\n",
    "        print(\"ERROR FOR RELATIVE OFF-CENTERING. distance/h= {}\".format(np.array([i,j])/h_ss))\n",
    "        print(tabulate(errors, headers=[\"Evaluated model\",\"Validation\", \"ratio\",\"L^2(q)\", \"L^2(phi)\", \"MRE(q)\", \"MRE(phi)\"]))\n",
    "        mat_errors_SS[np.where(off_center==j)[0][0], np.where(off_center==i)[0][0]]=get_MRE(SS.phi_q, phi_q)\n",
    "        mat_errors_peac[np.where(off_center==j)[0][0], np.where(off_center==i)[0][0]]=get_MRE(p_q, phi_q)"
   ]
  },
  {
   "cell_type": "code",
   "execution_count": null,
   "metadata": {},
   "outputs": [],
   "source": [
    "print(off_center, h_ss/2)"
   ]
  },
  {
   "cell_type": "code",
   "execution_count": null,
   "metadata": {},
   "outputs": [],
   "source": [
    "fig, axs = plt.subplots(1,2, figsize=(15,15))\n",
    "fig.tight_layout(pad=4.0)\n",
    "\n",
    "b=axs[0].imshow(mat_errors_peac, extent=[0,h_ss/2,0,h_ss/2],origin='lower')\n",
    "axs[0].set_xlabel(\"$\\mu$m\")\n",
    "axs[0].set_ylabel(\"$\\mu$m\")\n",
    "axs[0].set_title(\"Peaceman errors off-centering\")\n",
    "divider = make_axes_locatable(axs[0])\n",
    "cax = divider.append_axes('right', size='10%', pad=0.05)\n",
    "fig.colorbar(b, cax=cax,orientation='vertical')\n",
    "\n",
    "c=axs[1].imshow(mat_errors_SS, extent=[0,h_ss/2,0,h_ss/2], origin='lower')\n",
    "axs[1].set_xlabel(\"$\\mu$m\")\n",
    "axs[1].set_ylabel(\"$\\mu$m\")\n",
    "axs[1].set_title(\"SS errors off-centering\")\n",
    "divider = make_axes_locatable(axs[1])\n",
    "cax = divider.append_axes('right', size='10%', pad=0.05)\n",
    "fig.colorbar(c, cax=cax,  orientation='vertical')\n",
    "\n"
   ]
  },
  {
   "cell_type": "code",
   "execution_count": null,
   "metadata": {},
   "outputs": [],
   "source": [
    "plt.imshow(mat_errors_peac, extent=[0,h_ss/2,0,h_ss/2],origin='lower')\n",
    "plt.xlabel(\"$\\mu$m\")\n",
    "plt.ylabel(\"$\\mu$m\")\n",
    "plt.title(\"Relative errors off-centering {}x{} mesh \\n Reference: Peaceman 110x110 grid \\n\\n\".format(cells, cells))\n",
    "plt.colorbar()\n"
   ]
  },
  {
   "cell_type": "code",
   "execution_count": null,
   "metadata": {},
   "outputs": [],
   "source": [
    "off_center=np.linspace(0,h_ss*0.9, 5)+h_ss*0.05\n",
    "mat_errors_peac=np.zeros([len(off_center), len(off_center)])\n",
    "mat_errors_SS=np.zeros([len(off_center), len(off_center)])\n",
    "\n",
    "for i in off_center:\n",
    "    for j in off_center:\n",
    "        pos_0=np.array([0.5,0.5])*L+np.array([1,1])*h_ss*0.45\n",
    "        pos_s=np.array([pos_0,pos_0-np.array([i,j])])\n",
    "        #pdb.set_trace()\n",
    "        S=len(pos_s)\n",
    "        t=assemble_SS_2D_FD(pos_s, Rv, h_ss,L, K_eff, D, directness)\n",
    "        t.pos_arrays()\n",
    "        t.initialize_matrices()\n",
    "        M=t.assembly_sol_split_problem(np.array([0,0,0,0]))\n",
    "        t.B[-S:]=np.ones(S)*C0\n",
    "        sol=np.linalg.solve(M, t.B)\n",
    "        phi_FV=sol[:-S].reshape(len(t.x), len(t.y))\n",
    "        phi_q=sol[-S:]\n",
    "        SS=full_ss(pos_s, Rv, h_ss/ratio, K_eff, D, L)\n",
    "        v_SS=SS.solve_problem(t.B[-S:])\n",
    "        #comparison with no coupling\n",
    "        noc_sol, noc_lenx, noc_leny,noc_q, noc_B, noc_A, noc_s_blocks,noc_x,noc_y=get_validation(ratio, t, pos_s, np.ones(S), D, K_eff, Rv, L)\n",
    "\n",
    "        #comparison with Peaceman\n",
    "        p_sol, p_lenx, p_leny,p_q, p_B, p_A, p_s_blocks,p_x,p_y=get_validation(ratio, t, pos_s, np.ones(S), D, K_eff, Rv, L, \"Peaceman\")\n",
    "        \n",
    "        errors=[[\"coupling\",\"SS\" , ratio , get_L2(SS.phi_q, phi_q) , get_L2(phi_SS, a.rec_final) , get_MRE(SS.phi_q, phi_q) , get_MRE(phi_SS, a.rec_final)],\n",
    "        [\"coupling\",\"Peaceman\", ratio,get_L2(p_q, phi_q), get_L2(p_sol, np.ndarray.flatten(a.rec_final)), get_MRE(p_q, phi_q), get_MRE(p_sol, np.ndarray.flatten(a.rec_final))],\n",
    "        [\"FV\",\"SS\",1,get_L2(SS.phi_q, noc_q), get_L2(np.ndarray.flatten(phi_SS), noc_sol), get_MRE(SS.phi_q, noc_q), get_MRE(np.ndarray.flatten(phi_SS), noc_sol)],\n",
    "        [\"FV\",\"Peaceman\",1,get_L2(p_q, noc_q), get_L2(p_sol, noc_sol), get_MRE(p_q, noc_q), get_MRE(p_sol, noc_sol)],\n",
    "        [\"Peaceman\",\"SS\", 1,get_L2(SS.phi_q, p_q), get_L2(np.ndarray.flatten(phi_SS), p_sol), get_MRE(SS.phi_q, p_q), get_MRE(np.ndarray.flatten(phi_SS), p_sol)]]\n",
    "    \n",
    "        print(\"\\n\")\n",
    "        print(\"ERROR FOR RELATIVE OFF-CENTERING. distance/h= {}\".format(np.array([i,j])/h_ss))\n",
    "        print(tabulate(errors, headers=[\"Evaluated model\",\"Validation\", \"ratio\",\"L^2(q)\", \"L^2(phi)\", \"MRE(q)\", \"MRE(phi)\"]))\n",
    "        mat_errors_SS[np.where(off_center==j)[0][0], np.where(off_center==i)[0][0]]=get_MRE(SS.phi_q, phi_q)\n",
    "        mat_errors_peac[np.where(off_center==j)[0][0], np.where(off_center==i)[0][0]]=get_MRE(p_q, phi_q)"
   ]
  },
  {
   "cell_type": "code",
   "execution_count": null,
   "metadata": {},
   "outputs": [],
   "source": [
    "fig, axs = plt.subplots(1,2, figsize=(15,15))\n",
    "fig.tight_layout(pad=4.0)\n",
    "\n",
    "b=axs[0].imshow(mat_errors_peac*1e3, extent=[0,1,0,1],origin='lower')\n",
    "axs[0].set_xlabel(\"$off_x/h_{coarse}$\")\n",
    "axs[0].set_ylabel(\"$off_y/h_{coarse}$\")\n",
    "axs[0].set_title(\"Peaceman errors off-centering \\n multiplied by $10^3$\")\n",
    "divider = make_axes_locatable(axs[0])\n",
    "cax = divider.append_axes('right', size='10%', pad=0.05)\n",
    "fig.colorbar(b, cax=cax,orientation='vertical')\n",
    "\n",
    "c=axs[1].imshow(mat_errors_SS*1e3, extent=[0,1,0,1], origin='lower')\n",
    "axs[1].set_xlabel(\"$off_x/h_{coarse}$\")\n",
    "axs[1].set_ylabel(\"$off_y/h_{coarse}$\")\n",
    "axs[1].set_title(\"SS errors off-centering \\n multiplied by $10^3$\")\n",
    "divider = make_axes_locatable(axs[1])\n",
    "cax = divider.append_axes('right', size='10%', pad=0.05)\n",
    "fig.colorbar(c, cax=cax,  orientation='vertical')\n",
    "\n"
   ]
  },
  {
   "cell_type": "code",
   "execution_count": null,
   "metadata": {},
   "outputs": [],
   "source": [
    "from mpl_toolkits.axes_grid1 import make_axes_locatable\n",
    "\n",
    "error_Peac=np.abs((SS.phi_q-p_q)/SS.phi_q)\n",
    "error_FV=np.abs((SS.phi_q-noc_q)/SS.phi_q)\n",
    "error_coup=np.abs((SS.phi_q-phi_q)/SS.phi_q)\n",
    "fig, axs = plt.subplots(1,3, figsize=(18*2,6*2))\n",
    "fig.tight_layout(pad=8.0)\n",
    "axs[2].scatter(error_FV, error_coup)\n",
    "axs[2].plot(np.linspace(0, np.max(error_coup)),np.linspace(0, np.max(error_coup)), 'k--')\n",
    "axs[2].set_ylabel(\"coarse mesh \\n with coupling (%)\")\n",
    "axs[2].set_xlabel(\"fine mesh \\n without coupling (%)\")\n",
    "\n",
    "\n",
    "b=axs[1].imshow(a.rec_final, origin='lower', extent=[0,L,0,L])\n",
    "axs[1].set_xlabel(\"$\\mu$m\")\n",
    "axs[1].set_ylabel(\"$\\mu$m\")\n",
    "#plt.title(\"reconstruction coupling\")\n",
    "divider = make_axes_locatable(axs[1])\n",
    "cax = divider.append_axes('right', size='10%', pad=0.05)\n",
    "fig.colorbar(b, cax=cax, orientation='vertical')\n",
    "\n",
    "NN=post.coarse_NN_rec(t.x, t.y, phi_FV, pos_s, t.s_blocks, phi_q, ratio, h_ss, directness, Rv)\n",
    "\n",
    "c=axs[0].imshow(NN, origin='lower', extent=[0,L,0,L])\n",
    "axs[0].set_xlabel(\"$\\mu$m\")\n",
    "axs[0].set_ylabel(\"$\\mu$m\")\n",
    "#plt.title(\"average cell values\")\n",
    "divider = make_axes_locatable(axs[0])\n",
    "cax = divider.append_axes('right', size='10%', pad=0.05)\n",
    "fig.colorbar(c, cax=cax, orientation='vertical')"
   ]
  },
  {
   "cell_type": "code",
   "execution_count": null,
   "metadata": {},
   "outputs": [],
   "source": []
  },
  {
   "cell_type": "code",
   "execution_count": null,
   "metadata": {},
   "outputs": [],
   "source": []
  }
 ],
 "metadata": {
  "kernelspec": {
   "display_name": "Python 3",
   "language": "python",
   "name": "python3"
  },
  "language_info": {
   "codemirror_mode": {
    "name": "ipython",
    "version": 3
   },
   "file_extension": ".py",
   "mimetype": "text/x-python",
   "name": "python",
   "nbconvert_exporter": "python",
   "pygments_lexer": "ipython3",
   "version": "3.8.5"
  }
 },
 "nbformat": 4,
 "nbformat_minor": 4
}
