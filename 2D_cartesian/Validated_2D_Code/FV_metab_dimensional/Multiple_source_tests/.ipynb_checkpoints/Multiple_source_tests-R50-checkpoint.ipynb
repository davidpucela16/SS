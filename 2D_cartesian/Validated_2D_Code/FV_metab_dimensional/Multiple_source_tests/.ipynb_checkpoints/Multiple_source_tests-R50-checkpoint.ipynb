{
 "cells": [
  {
   "cell_type": "markdown",
   "metadata": {},
   "source": [
    "MULTIPLE SOURCE TESTS:\n",
    "\n",
    "This code is meant to compare the resolution obtained through the comsol simulations without simplification of the source geometry (in 2D), and my own code.\n",
    "\n",
    "The BCs in the COMSOL code are given as:\n",
    "$$\n",
    "-\\mathbf{n}\\cdot (- \\nabla \\phi) = g_c - q_c \\phi\n",
    "$$\n",
    "where the subscript $c$ is meant to denominate the COMSOL coefficients, the $\\mathbf{n}$ is the normal vector pointing OUTSIDE of the domain.\n",
    "\n",
    "Therefore, for our case where I commonly work in terms of $q$:\n",
    "$$q_0=C_0(<C_v> - \\bar{\\phi})$$\n",
    "\n",
    "and $$C_0 = K_{eff} \\pi R_v^2$$\n",
    "\n",
    "Therefore, if we consider an axisymmetric vessel:\n",
    "$$\n",
    "\\dfrac{C_0}{2 \\pi R_v D} (<C_v> - \\bar{\\phi}) = g_c - q_c \\phi \\quad at \\quad \\partial \\Omega_\\beta\n",
    "$$\n",
    "\n",
    "For simplicity, let's consider $q_c=g_c=1$\n",
    "So \n",
    "$$\n",
    "C_0=2 \\pi R_v D\n",
    "$$"
   ]
  },
  {
   "cell_type": "code",
   "execution_count": 26,
   "metadata": {},
   "outputs": [],
   "source": [
    "import sys\n",
    "# insert at 1, 0 is the script path (or '' in REPL)\n",
    "sys.path.append('/home/pdavid//Bureau/Code/SS/2D_cartesian/SS_code/FV_metab')\n",
    "import numpy as np \n",
    "import matplotlib.pyplot as plt\n",
    "from module_2D_coupling_FV_nogrid import * \n",
    "import reconst_and_test_module as post\n",
    "import random \n",
    "import scipy as sp\n",
    "from scipy import sparse\n",
    "import scipy.sparse.linalg\n",
    "import matplotlib.pylab as pylab\n",
    "params = {'legend.fontsize': 'x-large',\n",
    "          'figure.figsize': (6,6 ),\n",
    "         'axes.labelsize': 'x-large',\n",
    "         'axes.titlesize':'x-large',\n",
    "         'xtick.labelsize':'x-large',\n",
    "         'ytick.labelsize':'x-large'}\n",
    "pylab.rcParams.update(params)\n",
    "\n",
    "#0-Set up the sources\n",
    "#1-Set up the domain\n",
    "D=1\n",
    "L=10\n",
    "cells=5\n",
    "h_ss=L/cells\n",
    "#ratio=int(np.max((h_ss/0.1,6)))\n",
    "ratio=12\n",
    "#Rv=np.exp(-2*np.pi)*h_ss\n",
    "Rv=L/50\n",
    "\n",
    "C0=2*np.pi*Rv*D\n",
    "K_eff=C0/(np.pi*Rv**2)"
   ]
  },
  {
   "cell_type": "code",
   "execution_count": 27,
   "metadata": {},
   "outputs": [
    {
     "name": "stdout",
     "output_type": "stream",
     "text": [
      "directness= 1\n"
     ]
    }
   ],
   "source": [
    "x_ss=np.linspace(h_ss/2, L-h_ss/2, int(np.around(L/h_ss)))\n",
    "y_ss=x_ss\n",
    "directness=int(cells/4)\n",
    "print(\"directness=\", directness)"
   ]
  },
  {
   "cell_type": "code",
   "execution_count": 28,
   "metadata": {},
   "outputs": [
    {
     "name": "stdout",
     "output_type": "stream",
     "text": [
      "[ 0.60301515  0.33431458 -0.51421356 -1.22132034 -1.92842712]\n"
     ]
    }
   ],
   "source": [
    "array_of_sep=np.array([2.1,4,10,15,20])*Rv\n",
    "\n",
    "print(0.9-array_of_sep/np.sqrt(2))"
   ]
  },
  {
   "cell_type": "code",
   "execution_count": 34,
   "metadata": {
    "scrolled": true
   },
   "outputs": [
    {
     "name": "stdout",
     "output_type": "stream",
     "text": [
      "[[0.9 0.9]\n",
      " [0.6 0.6]]\n",
      "[[0.9  0.9 ]\n",
      " [0.34 0.34]]\n",
      "[[ 0.9   0.9 ]\n",
      " [-0.52 -0.52]]\n",
      "[[ 0.9   0.9 ]\n",
      " [-1.22 -1.22]]\n",
      "[[ 0.9   0.9 ]\n",
      " [-1.93 -1.93]]\n"
     ]
    }
   ],
   "source": [
    "array_of_sep=np.array([2.1,4,10,15,20])*Rv\n",
    "\n",
    "array_of_pos=np.array([0.6,0.34,-0.52,-1.22,-1.93])+L/2 #position of the second source \n",
    "q_array_source=np.zeros((0,2))\n",
    "p1=np.array([0.9,0.9])+L/2\n",
    "for i in array_of_pos:\n",
    "    p2=np.array([i,i])\n",
    "    pos_s=np.array([p1,p2])\n",
    "    print(pos_s-L/2)\n",
    "    S=len(pos_s)\n",
    "    t=assemble_SS_2D_FD(pos_s, Rv, h_ss,L, K_eff, D, directness)\n",
    "    t.pos_arrays()\n",
    "    t.initialize_matrices()\n",
    "    M=t.assembly_sol_split_problem(np.array([0,0,0,0]))\n",
    "    t.B[-S:]=np.ones(S)\n",
    "    #t.B[-np.random.randint(0,S,int(S/2))]=0\n",
    "    sol=np.linalg.solve(M, t.B)\n",
    "    phi_FV=sol[:-S].reshape(len(t.x), len(t.y))\n",
    "    phi_q=sol[-S:]\n",
    "    \n",
    "    q_array_source=np.concatenate((q_array_source, np.array([phi_q])), axis=0)"
   ]
  },
  {
   "cell_type": "code",
   "execution_count": 35,
   "metadata": {},
   "outputs": [
    {
     "data": {
      "text/plain": [
       "array([[5.9 , 5.9 ],\n",
       "       [3.07, 3.07]])"
      ]
     },
     "execution_count": 35,
     "metadata": {},
     "output_type": "execute_result"
    }
   ],
   "source": [
    "pos_s"
   ]
  },
  {
   "cell_type": "code",
   "execution_count": 36,
   "metadata": {},
   "outputs": [],
   "source": [
    "\n",
    "vline=(y_ss[1:]+x_ss[:-1])/2\n",
    "plt.scatter(pos_s[:,0], pos_s[:,1])\n",
    "plt.title(\"Position of the point sources\")\n",
    "for xc in vline:\n",
    "    plt.axvline(x=xc, color='k', linestyle='--')\n",
    "for xc in vline:\n",
    "    plt.axhline(y=xc, color='k', linestyle='--')\n",
    "plt.xlim([0,L])\n",
    "plt.ylim([0,L])\n",
    "plt.ylabel(\"y ($\\mu m$)\")\n",
    "plt.xlabel(\"x ($\\mu m$)\")\n",
    "plt.show()\n"
   ]
  },
  {
   "cell_type": "code",
   "execution_count": 37,
   "metadata": {},
   "outputs": [],
   "source": [
    "q_COMSOL_sources=np.array([1.145,1.2336,1.3547,1.415,1.4675])\n"
   ]
  },
  {
   "cell_type": "code",
   "execution_count": null,
   "metadata": {},
   "outputs": [],
   "source": [
    "\n"
   ]
  },
  {
   "cell_type": "code",
   "execution_count": 38,
   "metadata": {},
   "outputs": [
    {
     "name": "stdout",
     "output_type": "stream",
     "text": [
      "[[0.9 0.9]\n",
      " [0.6 0.6]]\n",
      "[[0.9  0.9 ]\n",
      " [0.34 0.34]]\n",
      "[[ 0.9   0.9 ]\n",
      " [-0.52 -0.52]]\n",
      "[[ 0.9   0.9 ]\n",
      " [-1.22 -1.22]]\n",
      "[[ 0.9   0.9 ]\n",
      " [-1.93 -1.93]]\n"
     ]
    }
   ],
   "source": [
    "q_array_sink=np.zeros((0,2))\n",
    "for i in array_of_pos:\n",
    "    p2=np.array([i,i])\n",
    "    pos_s=np.array([p1,p2])\n",
    "    print(pos_s-L/2)\n",
    "    S=len(pos_s)\n",
    "    t=assemble_SS_2D_FD(pos_s, Rv, h_ss,L, K_eff, D, directness)\n",
    "    t.pos_arrays()\n",
    "    t.initialize_matrices()\n",
    "    M=t.assembly_sol_split_problem(np.array([0,0,0,0]))\n",
    "    t.B[-S:]=np.ones(S)\n",
    "    t.B[-1]= 0\n",
    "    #t.B[-np.random.randint(0,S,int(S/2))]=0\n",
    "    sol=np.linalg.solve(M, t.B)\n",
    "    phi_FV=sol[:-S].reshape(len(t.x), len(t.y))\n",
    "    phi_q=sol[-S:]\n",
    "    \n",
    "    q_array_sink=np.concatenate((q_array_sink, np.array([phi_q])), axis=0)"
   ]
  },
  {
   "cell_type": "code",
   "execution_count": 39,
   "metadata": {},
   "outputs": [
    {
     "data": {
      "text/plain": [
       "array([[ 0.83491007, -0.25743052],\n",
       "       [ 0.79901558, -0.1863977 ],\n",
       "       [ 0.76682294, -0.09310185],\n",
       "       [ 0.76052923, -0.0671539 ],\n",
       "       [ 0.75709475, -0.04055921]])"
      ]
     },
     "execution_count": 39,
     "metadata": {},
     "output_type": "execute_result"
    }
   ],
   "source": [
    "q_array_sink"
   ]
  },
  {
   "cell_type": "code",
   "execution_count": 40,
   "metadata": {},
   "outputs": [],
   "source": [
    "q_COMSOL_sink=np.array([[0.8221,-0.2474],\n",
    "                        [0.8018,-0.1821],\n",
    "                       [0.7752,-0.0951],\n",
    "                       [0.7687,-0.062],\n",
    "                       [0.7658,-0.0399]])"
   ]
  },
  {
   "cell_type": "code",
   "execution_count": null,
   "metadata": {},
   "outputs": [],
   "source": []
  },
  {
   "cell_type": "code",
   "execution_count": null,
   "metadata": {},
   "outputs": [],
   "source": []
  },
  {
   "cell_type": "code",
   "execution_count": 41,
   "metadata": {},
   "outputs": [],
   "source": [
    "array_code=np.sum(q_array_source, axis=1)\n",
    "array_COMSOL=q_COMSOL_sources\n",
    "\n",
    "\n",
    "fig, axs = plt.subplots(1,3, figsize=(15,5),constrained_layout=True)\n",
    "fig.suptitle(\"$\\mathbb{C}_1 = 1$ and $\\mathbb{C}_2 = 1$\", fontsize=25)\n",
    "c=axs[0].plot(array_of_sep/Rv, array_code, label='MyCode')\n",
    "axs[0].plot(array_of_sep/Rv, array_COMSOL, label='COMSOL')\n",
    "axs[0].legend()\n",
    "axs[0].set_xlabel(\"$distance/R_v$\")\n",
    "axs[0].set_ylabel(\"q\")\n",
    "axs[0].set_title(\"$q_1+q_2$\")\n",
    "\n",
    "b=axs[1].plot(array_of_sep/Rv,np.abs(array_code-array_COMSOL)/array_COMSOL)\n",
    "axs[1].set_xlabel(\"$distance/R_v$\")\n",
    "axs[1].set_ylabel(\"rel error\")\n",
    "axs[1].set_title(\"relative error\")\n",
    "\n",
    "\n",
    "axs[2].plot(array_of_sep/Rv,np.abs(array_code-array_COMSOL))\n",
    "axs[2].set_ylabel(\"error\")\n",
    "axs[2].set_xlabel(\"$distance/R_v$\")\n",
    "axs[2].set_title(\"absolute error\")\n",
    "\n",
    "plt.show()\n",
    "\n",
    "array_code=q_array_sink[:,0]\n",
    "array_COMSOL=q_COMSOL_sink[:,0]\n",
    "\n",
    "\n",
    "fig, axs = plt.subplots(2,3, figsize=(15,10),constrained_layout=True)\n",
    "fig.suptitle(\"$\\mathbb{C}_1 = 1$ and $\\mathbb{C}_2 = 0$\", fontsize=25)\n",
    "axs[0,0].plot(array_of_sep/Rv, array_code, label='MyCode')\n",
    "axs[0,0].plot(array_of_sep/Rv, array_COMSOL, label='COMSOL')\n",
    "axs[0,0].legend()\n",
    "axs[0,0].set_xlabel(\"$distance/R_v$\")\n",
    "axs[0,0].set_ylabel(\"q\")\n",
    "axs[0,0].set_title(\"$q_1 (source)$\")\n",
    "\n",
    "axs[0,1].plot(array_of_sep/Rv,np.abs(array_code-array_COMSOL)/array_COMSOL)\n",
    "axs[0,1].set_xlabel(\"$distance/R_v$\")\n",
    "axs[0,1].set_ylabel(\"rel error\")\n",
    "axs[0,1].set_title(\"relative error\")\n",
    "\n",
    "\n",
    "axs[0,2].plot(array_of_sep/Rv,np.abs(array_code-array_COMSOL))\n",
    "axs[0,2].set_ylabel(\"error\")\n",
    "axs[0,2].set_xlabel(\"$distance/R_v$\")\n",
    "axs[0,2].set_title(\"absolute error\")\n",
    "\n",
    "array_code=q_array_sink[:,1]\n",
    "array_COMSOL=q_COMSOL_sink[:,1]\n",
    "\n",
    "axs[1,0].plot(array_of_sep/Rv, array_code, label='MyCode')\n",
    "axs[1,0].plot(array_of_sep/Rv, array_COMSOL, label='COMSOL')\n",
    "axs[1,0].legend()\n",
    "axs[1,0].set_xlabel(\"$distance/R_v$\")\n",
    "axs[1,0].set_ylabel(\"q\")\n",
    "axs[1,0].set_title(\"$q_2 (sink)$\")\n",
    "\n",
    "axs[1,1].plot(array_of_sep/Rv,np.abs(array_code-array_COMSOL)/np.abs(array_COMSOL))\n",
    "axs[1,1].set_xlabel(\"$distance/R_v$\")\n",
    "axs[1,1].set_ylabel(\"rel error\")\n",
    "axs[1,1].set_title(\"relative error\")\n",
    "\n",
    "\n",
    "axs[1,2].plot(array_of_sep/Rv,np.abs(array_code-array_COMSOL))\n",
    "axs[1,2].set_ylabel(\"error\")\n",
    "axs[1,2].set_xlabel(\"$distance/R_v$\")\n",
    "axs[1,2].set_title(\"absolute error\")\n",
    "plt.show()"
   ]
  },
  {
   "cell_type": "code",
   "execution_count": 24,
   "metadata": {},
   "outputs": [
    {
     "name": "stderr",
     "output_type": "stream",
     "text": [
      "No handles with labels found to put in legend.\n"
     ]
    }
   ],
   "source": [
    "plt.plot(array_of_sep/Rv, np.sum(q_array_source, axis=1), label='MyCode')\n",
    "plt.plot(array_of_sep/Rv, q_COMSOL_sources, label='COMSOL')\n",
    "plt.legend()\n",
    "plt.xlabel(\"a/Rv\")\n",
    "plt.ylabel(\"q\")\n",
    "plt.title(\"Comparison for the source\")\n",
    "plt.show()\n",
    "\n",
    "plt.plot(array_of_sep/Rv,np.abs(np.sum(q_array_source, axis=1)-q_COMSOL_sources)/q_COMSOL_sources)\n",
    "plt.legend()\n",
    "plt.xlabel(\"a/Rv\")\n",
    "plt.ylabel(\"rel error\")\n",
    "plt.show()\n",
    "\n",
    "plt.plot(array_of_sep/Rv,q_array_sink[:,1], label='MyCode')\n",
    "plt.plot(array_of_sep/Rv,q_COMSOL_sink[:,1], label='COMSOL')\n",
    "plt.legend()\n",
    "plt.xlabel(\"a/Rv\")\n",
    "plt.ylabel(\"q\")\n",
    "plt.title(\"Comparison for the sink\")\n",
    "plt.show()\n",
    "\n",
    "plt.plot(array_of_sep/Rv,q_array_sink[:,0], label='MyCode')\n",
    "plt.plot(array_of_sep/Rv,q_COMSOL_sink[:,0], label='COMSOL')\n",
    "plt.xlabel(\"a/Rv\")\n",
    "plt.ylabel(\"q\")\n",
    "#plt.ylim((0.4,0.5))\n",
    "plt.legend()\n",
    "plt.title(\"Comarison for the source\")\n",
    "plt.show()\n",
    "\n",
    "plt.plot(array_of_sep/Rv,np.abs(q_array_sink[:,1]-q_COMSOL_sink[:,1])/np.abs(q_COMSOL_sink[:,1]), label='relative error')\n",
    "plt.legend()\n",
    "plt.title(\"Relative error sink\")\n",
    "plt.show()\n",
    "\n",
    "plt.plot(array_of_sep/Rv,np.abs(q_array_sink[:,0]-q_COMSOL_sink[:,0])/q_COMSOL_sink[:,0], label='relative error')\n",
    "plt.legend()\n",
    "plt.title(\"Relative error source\")\n",
    "plt.show()"
   ]
  }
 ],
 "metadata": {
  "kernelspec": {
   "display_name": "Python 3",
   "language": "python",
   "name": "python3"
  },
  "language_info": {
   "codemirror_mode": {
    "name": "ipython",
    "version": 3
   },
   "file_extension": ".py",
   "mimetype": "text/x-python",
   "name": "python",
   "nbconvert_exporter": "python",
   "pygments_lexer": "ipython3",
   "version": "3.8.3"
  }
 },
 "nbformat": 4,
 "nbformat_minor": 4
}
